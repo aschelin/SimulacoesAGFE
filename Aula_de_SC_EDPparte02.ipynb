{
  "nbformat": 4,
  "nbformat_minor": 0,
  "metadata": {
    "colab": {
      "name": "Aula de SC_EDPparte02.ipynb",
      "provenance": [],
      "authorship_tag": "ABX9TyMi08RWf2Y+rFBC5jZyRl1D",
      "include_colab_link": true
    },
    "kernelspec": {
      "name": "python3",
      "display_name": "Python 3"
    },
    "language_info": {
      "name": "python"
    }
  },
  "cells": [
    {
      "cell_type": "markdown",
      "metadata": {
        "id": "view-in-github",
        "colab_type": "text"
      },
      "source": [
        "<a href=\"https://colab.research.google.com/github/aschelin/SimulacoesAGFE/blob/main/Aula_de_SC_EDPparte02.ipynb\" target=\"_parent\"><img src=\"https://colab.research.google.com/assets/colab-badge.svg\" alt=\"Open In Colab\"/></a>"
      ]
    },
    {
      "cell_type": "markdown",
      "metadata": {
        "id": "Mjg67mVqks1M"
      },
      "source": [
        "# Equação de Burguer\n",
        "\n",
        "> Este tutorial é baseado no material \"[CFD Python: 12 steps to Navier-Stokes](https://lorenabarba.com/blog/cfd-python-12-steps-to-navier-stokes/)\" de Lorena A. Barba. \n",
        "\n",
        "\n",
        "Agora vamos resolver a [equação de Burguer](http://en.wikipedia.org/wiki/Burgers'_equation) em 1D:\n",
        "\n",
        "\n",
        "$$\\frac{\\partial u}{\\partial t} + u \\frac{\\partial u}{\\partial x} = \\nu \\frac{\\partial ^2u}{\\partial x^2}$$\n",
        "\n",
        "Podemos ver que ela é uma combinação da equação de convecção e de difusão. \n",
        "\n",
        "Podemos discretizá-la usando os métodos que já detalhamos.  Usando a diferença para frente para o tempo, a diferença para trás para o espaço e o método de segunda ordem para o termo da segunda derivada temos:\n",
        "\n",
        "$$\\frac{u_i^{n+1}-u_i^n}{\\Delta t} + u_i^n \\frac{u_i^n - u_{i-1}^n}{\\Delta x} = \\nu \\frac{u_{i+1}^n - 2u_i^n + u_{i-1}^n}{\\Delta x^2}$$\n",
        "\n",
        "Como antes, uma vez que a condição inicial é dada, a única incógnita é $u_i^{n+1}$. O próximo passo no tempo será então:\n",
        "\n",
        "$$u_i^{n+1} = u_i^n - u_i^n \\frac{\\Delta t}{\\Delta x} (u_i^n - u_{i-1}^n) + \\nu \\frac{\\Delta t}{\\Delta x^2}(u_{i+1}^n - 2u_i^n + u_{i-1}^n)$$\n",
        "\n",
        "\n",
        "\n"
      ]
    },
    {
      "cell_type": "markdown",
      "metadata": {
        "id": "EF7B-CsjmGml"
      },
      "source": [
        "### Condições iniciais e de contorno\n",
        "\n",
        "Para examinar algumas propriedades interessantes da equação de Burgers, é útil usar condições iniciais e de contorno diferentes das que temos usado nas etapas anteriores.  \n",
        "\n",
        "Nossa condição inicial para este problema vai ser:\n",
        "\n",
        "\\begin{eqnarray}\n",
        "u &=& -\\frac{2 \\nu}{\\phi} \\frac{\\partial \\phi}{\\partial x} + 4 \\\\\\\n",
        "\\phi &=& \\exp \\bigg(\\frac{-x^2}{4 \\nu} \\bigg) + \\exp \\bigg(\\frac{-(x-2 \\pi)^2}{4 \\nu} \\bigg)\n",
        "\\end{eqnarray}\n",
        "\n",
        "Existe uma solução analítica, dada por:\n",
        "\n",
        "\\begin{eqnarray}\n",
        "u &=& -\\frac{2 \\nu}{\\phi} \\frac{\\partial \\phi}{\\partial x} + 4 \\\\\\\n",
        "\\phi &=& \\exp \\bigg(\\frac{-(x-4t)^2}{4 \\nu (t+1)} \\bigg) + \\exp \\bigg(\\frac{-(x-4t -2 \\pi)^2}{4 \\nu(t+1)} \\bigg)\n",
        "\\end{eqnarray}\n",
        "\n",
        "Nossa condição de contorno será:\n",
        "\n",
        "$$u(0) = u(2\\pi)$$\n",
        "\n",
        "Essa condição de contorno é chamada de *periódica*. "
      ]
    },
    {
      "cell_type": "code",
      "metadata": {
        "id": "z_tAHxS7x49B"
      },
      "source": [
        ""
      ],
      "execution_count": null,
      "outputs": []
    },
    {
      "cell_type": "markdown",
      "metadata": {
        "id": "NsgIfci7m_7N"
      },
      "source": [
        "### Poupando tempo com a SymPy\n",
        "\n",
        "\n",
        "A condição inicial que estamos usando para a Equação de Burgers pode ser um pouco chata para escrever à mão.  A derivada parcial $\\frac{\\partial \\phi}{\\partial x}$ não é difícil de ser resolvida, mas seria fácil esquecer algum sinal ou um fator de $x$ em algum lugar. Por isso, vamos usar a SymPy para nos ajudar.  \n",
        "\n",
        "O [SymPy](http://sympy.org/en/) é uma biblioteca matemática simbólica do Python.  Ela tem a mesma funcionalidade matemática simbólica do Mathematica com o benefício adicional de podermos facilmente traduzir seus resultados de volta para nossos cálculos em Python. Ela também é gratuita e de código aberto. \n",
        "\n",
        "Comece carregando a biblioteca SymPy, juntamente com nossa biblioteca favorita, o NumPy.\n",
        "\n"
      ]
    },
    {
      "cell_type": "code",
      "metadata": {
        "id": "PlP8GtUhkqrD"
      },
      "source": [
        "import numpy as np\n",
        "import matplotlib.pyplot as plt\n",
        "import sympy"
      ],
      "execution_count": null,
      "outputs": []
    },
    {
      "cell_type": "markdown",
      "metadata": {
        "id": "aAal8zbd7rdK"
      },
      "source": [
        "Também vamos dizer ao SymPy que queremos que toda a sua produção seja renderizada usando $\\LaTeX$. Isto tornará nosso Notebook mais bonito!"
      ]
    },
    {
      "cell_type": "code",
      "metadata": {
        "id": "QaIIEIgu7hSL"
      },
      "source": [
        "from sympy import init_printing\n",
        "init_printing(use_latex=True)"
      ],
      "execution_count": null,
      "outputs": []
    },
    {
      "cell_type": "markdown",
      "metadata": {
        "id": "qWhWoyiG8B_g"
      },
      "source": [
        "Comece configurando variáveis simbólicas para as três variáveis em nossa condição inicial e depois digite a equação completa de $\\phi$. "
      ]
    },
    {
      "cell_type": "code",
      "metadata": {
        "colab": {
          "base_uri": "https://localhost:8080/",
          "height": 46
        },
        "id": "Rp3RUdfF7ykV",
        "outputId": "51cbfd33-a283-45f2-bca4-0ac7d8a14d4c"
      },
      "source": [
        "x, nu, t = sympy.symbols('x nu t')\n",
        "\n",
        "phi = sympy.exp(-(x-4*t)**2/(4*nu*(t+1))) + sympy.exp(-(x-4*t-2*sympy.pi)**2/(4*nu*(t+1)))\n",
        "\n",
        "phi"
      ],
      "execution_count": null,
      "outputs": [
        {
          "output_type": "execute_result",
          "data": {
            "image/png": "[encoded data removed]",
            "text/latex": "$\\displaystyle e^{- \\frac{\\left(- 4 t + x - 2 \\pi\\right)^{2}}{4 \\nu \\left(t + 1\\right)}} + e^{- \\frac{\\left(- 4 t + x\\right)^{2}}{4 \\nu \\left(t + 1\\right)}}$",
            "text/plain": [
              "                  2                2 \n",
              " -(-4⋅t + x - 2⋅π)      -(-4⋅t + x)  \n",
              " ───────────────────    ─────────────\n",
              "     4⋅ν⋅(t + 1)         4⋅ν⋅(t + 1) \n",
              "ℯ                    + ℯ             "
            ]
          },
          "metadata": {},
          "execution_count": 7
        }
      ]
    },
    {
      "cell_type": "markdown",
      "metadata": {
        "id": "_u_PEr-w8k7o"
      },
      "source": [
        "Agora podemos calcular a derivada parcial $\\frac{\\partial \\phi}{\\partial x}$:"
      ]
    },
    {
      "cell_type": "code",
      "metadata": {
        "colab": {
          "base_uri": "https://localhost:8080/",
          "height": 67
        },
        "id": "CJY355Mr8Lom",
        "outputId": "bee9bdcf-51f8-44d8-b7f2-54b1bd7dbd94"
      },
      "source": [
        "phiprime = phi.diff(x)\n",
        "\n",
        "phiprime"
      ],
      "execution_count": null,
      "outputs": [
        {
          "output_type": "execute_result",
          "data": {
            "image/png": "[encoded data removed]",
            "text/latex": "$\\displaystyle - \\frac{\\left(- 8 t + 2 x\\right) e^{- \\frac{\\left(- 4 t + x\\right)^{2}}{4 \\nu \\left(t + 1\\right)}}}{4 \\nu \\left(t + 1\\right)} - \\frac{\\left(- 8 t + 2 x - 4 \\pi\\right) e^{- \\frac{\\left(- 4 t + x - 2 \\pi\\right)^{2}}{4 \\nu \\left(t + 1\\right)}}}{4 \\nu \\left(t + 1\\right)}$",
            "text/plain": [
              "                           2                                         2 \n",
              "                -(-4⋅t + x)                         -(-4⋅t + x - 2⋅π)  \n",
              "                ─────────────                       ───────────────────\n",
              "                 4⋅ν⋅(t + 1)                            4⋅ν⋅(t + 1)    \n",
              "  (-8⋅t + 2⋅x)⋅ℯ                (-8⋅t + 2⋅x - 4⋅π)⋅ℯ                   \n",
              "- ─────────────────────────── - ───────────────────────────────────────\n",
              "          4⋅ν⋅(t + 1)                         4⋅ν⋅(t + 1)              "
            ]
          },
          "metadata": {},
          "execution_count": 8
        }
      ]
    },
    {
      "cell_type": "markdown",
      "metadata": {
        "id": "H1j2ayDY8ydL"
      },
      "source": [
        "Para ver a versão não renderizada, basta escrever *print*:"
      ]
    },
    {
      "cell_type": "code",
      "metadata": {
        "colab": {
          "base_uri": "https://localhost:8080/"
        },
        "id": "scZeT-eF8sZr",
        "outputId": "f6eba632-26d6-46ac-c06b-ce0c0eab139e"
      },
      "source": [
        "print(phiprime)"
      ],
      "execution_count": null,
      "outputs": [
        {
          "output_type": "stream",
          "name": "stdout",
          "text": [
            "-(-8*t + 2*x)*exp(-(-4*t + x)**2/(4*nu*(t + 1)))/(4*nu*(t + 1)) - (-8*t + 2*x - 4*pi)*exp(-(-4*t + x - 2*pi)**2/(4*nu*(t + 1)))/(4*nu*(t + 1))\n"
          ]
        }
      ]
    },
    {
      "cell_type": "markdown",
      "metadata": {
        "id": "ccDlkCgR9OAN"
      },
      "source": [
        "Agora que temos a versão Pythonic da nossa derivada, podemos terminar de escrever a equação da condição inicial e depois traduzi-la em uma expressão Python utilizável.   Para isso, usaremos a função *lambdify*, que pega uma equação simbólica SymPy e a transforma em uma função que pode ser chamada.  "
      ]
    },
    {
      "cell_type": "code",
      "metadata": {
        "colab": {
          "base_uri": "https://localhost:8080/"
        },
        "id": "o25rSaec87Pj",
        "outputId": "a90c912e-f496-4e16-c7e3-c01ce01bbc59"
      },
      "source": [
        "from sympy.utilities.lambdify import lambdify\n",
        "\n",
        "u = -2 * nu * (phiprime / phi) + 4\n",
        "print(u)  "
      ],
      "execution_count": null,
      "outputs": [
        {
          "output_type": "stream",
          "name": "stdout",
          "text": [
            "-2*nu*(-(-8*t + 2*x)*exp(-(-4*t + x)**2/(4*nu*(t + 1)))/(4*nu*(t + 1)) - (-8*t + 2*x - 4*pi)*exp(-(-4*t + x - 2*pi)**2/(4*nu*(t + 1)))/(4*nu*(t + 1)))/(exp(-(-4*t + x - 2*pi)**2/(4*nu*(t + 1))) + exp(-(-4*t + x)**2/(4*nu*(t + 1)))) + 4\n"
          ]
        }
      ]
    },
    {
      "cell_type": "markdown",
      "metadata": {
        "id": "ukjgf8SW9tWA"
      },
      "source": [
        "### Lambdify\n",
        "\n",
        "Para trasfomrmar esta expressão em uma função utilizável, dizemos à lambdify quais variáveis devem ser solicitadas e a função à qual queremos conectá-las."
      ]
    },
    {
      "cell_type": "code",
      "metadata": {
        "id": "hIaLQFU49Zro"
      },
      "source": [
        "ufunc = lambdify((t,x,nu),u)"
      ],
      "execution_count": null,
      "outputs": []
    },
    {
      "cell_type": "code",
      "metadata": {
        "colab": {
          "base_uri": "https://localhost:8080/"
        },
        "id": "auWew9AQzxl_",
        "outputId": "417be25c-eff0-4f3f-d81a-23136019d5e1"
      },
      "source": [
        "print(ufunc(1,4,3))"
      ],
      "execution_count": null,
      "outputs": [
        {
          "output_type": "stream",
          "name": "stdout",
          "text": [
            "3.49170664206445\n"
          ]
        }
      ]
    },
    {
      "cell_type": "markdown",
      "metadata": {
        "id": "GAVSm6Pv-erQ"
      },
      "source": [
        "### De volta à Equação de Burgers\n",
        "\n",
        "Agora que temos as condições iniciais estabelecidas, podemos prosseguir com nosso problema.  Podemos gerar um gráfico das condições iniciais usando nossa função lambdify-ed."
      ]
    },
    {
      "cell_type": "code",
      "metadata": {
        "colab": {
          "base_uri": "https://localhost:8080/"
        },
        "id": "xD_av3xA-Btg",
        "outputId": "3c3701dc-92e2-44ad-c3fc-42b4f38f24ed"
      },
      "source": [
        "nx = 101\n",
        "nt = 100\n",
        "dx = 2 * np.pi / (nx - 1)\n",
        "\n",
        "nu = 0.07\n",
        "\n",
        "dt = dx * nu\n",
        "\n",
        "x = np.linspace(0,2*np.pi,nx)\n",
        "\n",
        "un = np.empty(nx)\n",
        "t = 0\n",
        "\n",
        "u = np.asarray([ufunc(t,x0,nu) for x0 in x])\n",
        "\n",
        "u\n"
      ],
      "execution_count": null,
      "outputs": [
        {
          "output_type": "execute_result",
          "data": {
            "text/plain": [
              "array([4.        , 4.06283185, 4.12566371, 4.18849556, 4.25132741,\n",
              "       4.31415927, 4.37699112, 4.43982297, 4.50265482, 4.56548668,\n",
              "       4.62831853, 4.69115038, 4.75398224, 4.81681409, 4.87964594,\n",
              "       4.9424778 , 5.00530965, 5.0681415 , 5.13097336, 5.19380521,\n",
              "       5.25663706, 5.31946891, 5.38230077, 5.44513262, 5.50796447,\n",
              "       5.57079633, 5.63362818, 5.69646003, 5.75929189, 5.82212374,\n",
              "       5.88495559, 5.94778745, 6.0106193 , 6.07345115, 6.136283  ,\n",
              "       6.19911486, 6.26194671, 6.32477856, 6.38761042, 6.45044227,\n",
              "       6.51327412, 6.57610598, 6.63893783, 6.70176967, 6.76460125,\n",
              "       6.82742866, 6.89018589, 6.95176632, 6.99367964, 6.72527549,\n",
              "       4.        , 1.27472451, 1.00632036, 1.04823368, 1.10981411,\n",
              "       1.17257134, 1.23539875, 1.29823033, 1.36106217, 1.42389402,\n",
              "       1.48672588, 1.54955773, 1.61238958, 1.67522144, 1.73805329,\n",
              "       1.80088514, 1.863717  , 1.92654885, 1.9893807 , 2.05221255,\n",
              "       2.11504441, 2.17787626, 2.24070811, 2.30353997, 2.36637182,\n",
              "       2.42920367, 2.49203553, 2.55486738, 2.61769923, 2.68053109,\n",
              "       2.74336294, 2.80619479, 2.86902664, 2.9318585 , 2.99469035,\n",
              "       3.0575222 , 3.12035406, 3.18318591, 3.24601776, 3.30884962,\n",
              "       3.37168147, 3.43451332, 3.49734518, 3.56017703, 3.62300888,\n",
              "       3.68584073, 3.74867259, 3.81150444, 3.87433629, 3.93716815,\n",
              "       4.        ])"
            ]
          },
          "metadata": {},
          "execution_count": 14
        }
      ]
    },
    {
      "cell_type": "code",
      "metadata": {
        "colab": {
          "base_uri": "https://localhost:8080/",
          "height": 594
        },
        "id": "RoleyeAT-7u1",
        "outputId": "77f03038-d2d5-446f-bb4e-34ad032ca9c8"
      },
      "source": [
        "plt.figure(figsize=(11, 7), dpi=100)\n",
        "plt.plot(x, u, marker='o', lw=2)\n",
        "plt.xlim([0, 2 * np.pi])\n",
        "plt.ylim([0, 10]);"
      ],
      "execution_count": null,
      "outputs": [
        {
          "output_type": "display_data",
          "data": {
            "image/png": "[encoded data removed]",
            "text/plain": [
              "<Figure size 1100x700 with 1 Axes>"
            ]
          },
          "metadata": {
            "needs_background": "light"
          }
        }
      ]
    },
    {
      "cell_type": "markdown",
      "metadata": {
        "id": "rwzZ6r9B_tVV"
      },
      "source": [
        "Esta não é a função de chapéu com a qual temos lidado até agora. Nós a chamamos de \"função serra-dentada\".  Vamos prosseguir e ver o que acontece.  "
      ]
    },
    {
      "cell_type": "markdown",
      "metadata": {
        "id": "QJlT83etAVNG"
      },
      "source": [
        "### Condições de contorno periódicas\n",
        "\n",
        "Uma das grandes novidades em relação aos casos anteriores é o uso de condições de contorno *periódicas*.  Se você simular o tutorial anterior e fizer a simulação funcionar por mais tempo (aumentando o `nt'), você notará que a onda continuará se movendo para a direita até que não apareça mais no gráfico.  \n",
        "\n",
        "Com condições de contorno periódicas, quando um ponto chega ao lado direito da grade, ele se projeta para a esquerda da grade.  \n",
        "\n",
        "Lembrem-se da discretização que trabalhamos no início deste notebook:\n",
        "\n",
        "$$u_i^{n+1} = u_i^n - u_i^n \\frac{\\Delta t}{\\Delta x} (u_i^n - u_{i-1}^n) + \\nu \\frac{\\Delta t}{\\Delta x^2}(u_{i+1}^n - 2u_i^n + u_{i-1}^n)$$\n",
        "\n",
        "O que fazemos com $u_{i+1}^n$ quando $i$ já está no final da grade?\n",
        "\n",
        "\n"
      ]
    },
    {
      "cell_type": "code",
      "metadata": {
        "id": "PXUsUjle_Z1P"
      },
      "source": [
        "for n in range(nt):\n",
        "  un = u.copy()\n",
        "  for i in range(1,nx-1):\n",
        "     u[i] = un[i] - un[i] * dt / dx *(un[i] - un[i-1]) + nu * dt / dx**2 * (un[i+1] - 2 * un[i] + un[i-1])\n",
        "     u[0] = un[0] - un[0] * dt / dx * (un[0] - un[-2]) + nu * dt / dx**2 * (un[1] - 2 * un[0] + un[-2])\n",
        "     u[-1] = u[0]\n"
      ],
      "execution_count": null,
      "outputs": []
    },
    {
      "cell_type": "code",
      "metadata": {
        "id": "nDVy5RYc2KwB"
      },
      "source": [
        "u_analytical = np.asarray([ufunc(nt * dt, xi, nu) for xi in x])"
      ],
      "execution_count": null,
      "outputs": []
    },
    {
      "cell_type": "code",
      "metadata": {
        "colab": {
          "base_uri": "https://localhost:8080/",
          "height": 594
        },
        "id": "36DVLhY4BQUm",
        "outputId": "8e93e66f-b4f9-46a1-df95-3abd9d5ba271"
      },
      "source": [
        "plt.figure(figsize=(11, 7), dpi=100)\n",
        "plt.plot(x,u, marker='o', lw=2, label='Numérica')\n",
        "plt.plot(x, u_analytical, label='Analítica')\n",
        "plt.xlim([0, 2 * np.pi])\n",
        "plt.ylim([0, 10])\n",
        "plt.legend();"
      ],
      "execution_count": null,
      "outputs": [
        {
          "output_type": "display_data",
          "data": {
            "image/png": "[encoded data removed]",
            "text/plain": [
              "<Figure size 1100x700 with 1 Axes>"
            ]
          },
          "metadata": {
            "needs_background": "light"
          }
        }
      ]
    },
    {
      "cell_type": "markdown",
      "metadata": {
        "id": "TzjMNtJDDZZj"
      },
      "source": [
        "### Quais serão os próximos passos?\n",
        "\n",
        "Em seguida, vamos considerar as equações em mais dimensões. A extensão das fórmulas de diferença finita para o caso 2D ou 3D não é difícil, apenas lembre a derivada parcial em relação a $x$ é a variação em $x$ mantendo $y$ constante e vice-versa. "
      ]
    },
    {
      "cell_type": "code",
      "metadata": {
        "id": "nepR2OY3Bc5m"
      },
      "source": [
        ""
      ],
      "execution_count": null,
      "outputs": []
    }
  ]
}