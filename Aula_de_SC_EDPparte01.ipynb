{
  "nbformat": 4,
  "nbformat_minor": 0,
  "metadata": {
    "colab": {
      "name": "Aula de SC_EDPparte01.ipynb",
      "provenance": [],
      "authorship_tag": "ABX9TyOWKtiDvzJUBVlSbMo+NgL1",
      "include_colab_link": true
    },
    "kernelspec": {
      "name": "python3",
      "display_name": "Python 3"
    },
    "language_info": {
      "name": "python"
    }
  },
  "cells": [
    {
      "cell_type": "markdown",
      "metadata": {
        "id": "view-in-github",
        "colab_type": "text"
      },
      "source": [
        "<a href=\"https://colab.research.google.com/github/aschelin/SimulacoesAGFE/blob/main/Aula_de_SC_EDPparte01.ipynb\" target=\"_parent\"><img src=\"https://colab.research.google.com/assets/colab-badge.svg\" alt=\"Open In Colab\"/></a>"
      ]
    },
    {
      "cell_type": "markdown",
      "metadata": {
        "id": "lButLzvmgqBI"
      },
      "source": [
        "# Equações Diferenciais Parciais (EDPs)\n",
        "\n",
        "\n",
        "\n",
        "> Este tutorial é baseado no material \"[CFD Python: 12 steps to Navier-Stokes](https://lorenabarba.com/blog/cfd-python-12-steps-to-navier-stokes/)\" de Lorena A. Barba. \n",
        "\n"
      ]
    },
    {
      "cell_type": "markdown",
      "metadata": {
        "id": "ZTPiKgZzisnG"
      },
      "source": [
        "## Equação de Convecção Linear 1-D\n",
        "\n",
        "> Bloco com recuo\n",
        "\n",
        "\n",
        "\n",
        "Vamos começar a falar de EDPs com a equação de Convecção Linear em 1-D. \n",
        "\n",
        "A equação de Convecção Linear 1-D é o modelo mais simples e básico que pode ser usado para se estudar CFD. Ela é dada por:\n",
        "\n",
        "$$\\frac{\\partial u}{\\partial t} + c \\frac{\\partial u}{\\partial x} = 0$$\n",
        "\n",
        "Com determinadas condições iniciais (uma onda), a equação representa a propagação dessa onda inicial com velocidade $c$, sem mudança de forma. Deixe a condição inicial ser $u(x,0)=u_0(x)$. A solução exata desta equação é $u(x,t)=u_0(x-ct)$. \n",
        "\n",
        "Discretizamos esta equação tanto no espaço como no tempo, utilizando o esquema da Diferença Finita para a frente para a derivada do tempo e o esquema da Diferença Finita para trás para a derivada do espaço. Consideramos a discretização da coordenada espacial $x$ em pontos que indexamos de $i=0$ a $N$, e os intervalos de tempo discretos de tamanho $\\Delta t$.\n",
        "\n",
        "A partir da definição de uma derivada (e simplesmente removendo o limite), sabemos que:\n",
        "\n",
        "$$\\frac{\\partial u}{\\partial x}\\approx \\frac{u(x+\\Delta x)-u(x)}{\\Delta x}$$\n",
        "\n",
        "Nossa equação discretizada será dada por: \n",
        "\n",
        "$$\\frac{u_i^{n+1}-u_i^n}{\\Delta t} + c \\frac{u_i^n - u_{i-1}^n}{\\Delta x} = 0 $$\n",
        "\n",
        "Onde $n$ e $n+1$ são duas etapas consecutivas no tempo, enquanto $i-1$ e $i$ são dois pontos vizinhos da coordenada discretizada $x$. Se forem dadas condições iniciais, então o único desconhecido nesta discretização é $u_i^{n+1}$. Resolvendo para $u_i^{n+1}$ temos:\n",
        "\n",
        "$$u_i^{n+1} = u_i^n - c \\frac{\\Delta t}{\\Delta x}(u_i^n-u_{i-1}^n)$$\n",
        "\n",
        "Vamos agora implementar isso numericamente. \n",
        "\n",
        "\n",
        "\n",
        "\n"
      ]
    },
    {
      "cell_type": "code",
      "metadata": {
        "id": "Oxy_J2tKgo4g"
      },
      "source": [
        "# importando as bibliotecas necessárias\n",
        "import numpy as np\n",
        "import matplotlib.pyplot as plt "
      ],
      "execution_count": null,
      "outputs": []
    },
    {
      "cell_type": "markdown",
      "metadata": {
        "id": "efzYfsBTgoO_"
      },
      "source": [
        "Agora vamos definir algumas variáveis; queremos definir uma grade de pontos uniformemente espaçados dentro de um domínio espacial que tenha 2 unidades de largura, ou seja, $x_i\\in(0,2)$.  Vamos definir uma variável *nx*, que será o número de pontos da grade que queremos e *dx* será a distância entre qualquer par de pontos adjacentes.  "
      ]
    },
    {
      "cell_type": "code",
      "metadata": {
        "id": "qKMnAnffgnaK"
      },
      "source": [
        "nx = 41\n",
        "dx = 2/(nx-1)\n",
        "nt = 25\n",
        "dt = 0.025 \n",
        "c =1"
      ],
      "execution_count": null,
      "outputs": []
    },
    {
      "cell_type": "markdown",
      "metadata": {
        "id": "yfLRdJUpqBpD"
      },
      "source": [
        "Precisamos também de estabelecer as nossas condições iniciais. A velocidade inicial $u_0$ é dada como  $u = 2$ no intervalo $0,5 \\leq x \\leq 1$ e $u = 1$ em qualquer outro lugar em $(0,2)$ (ou seja, uma função de chapéu).\n",
        "\n",
        "Aqui, utilizamos a função `ones()` definindo uma matriz `numpy` que possui `nx` elementos com cada valor igual a 1."
      ]
    },
    {
      "cell_type": "code",
      "metadata": {
        "colab": {
          "base_uri": "https://localhost:8080/"
        },
        "id": "s3noVhBxpziM",
        "outputId": "9aa2d295-3892-4322-89c9-8942cbacbf39"
      },
      "source": [
        "u = np.ones(nx) \n",
        "u[int(0.5/dx):int(1/dx+1)] = 2\n",
        "\n",
        "print(u)"
      ],
      "execution_count": null,
      "outputs": [
        {
          "output_type": "stream",
          "name": "stdout",
          "text": [
            "[1. 1. 1. 1. 1. 1. 1. 1. 1. 1. 2. 2. 2. 2. 2. 2. 2. 2. 2. 2. 2. 1. 1. 1.\n",
            " 1. 1. 1. 1. 1. 1. 1. 1. 1. 1. 1. 1. 1. 1. 1. 1. 1.]\n"
          ]
        }
      ]
    },
    {
      "cell_type": "markdown",
      "metadata": {
        "id": "iSzJkea1q-rj"
      },
      "source": [
        "Agora visualizar essas condições iniciais utilizando o Matplotlib. \n",
        "\n",
        "Aqui, utilizamos a sintaxe para um simples gráfico 2D: plot(x,y), onde os valores x são pontos da grade uniformemente distribuídos:\n"
      ]
    },
    {
      "cell_type": "code",
      "metadata": {
        "colab": {
          "base_uri": "https://localhost:8080/",
          "height": 265
        },
        "id": "uU4rnT1lqdVc",
        "outputId": "06e678bd-71de-499f-fe62-59faf8cdb6e4"
      },
      "source": [
        "plt.plot(np.linspace(0,2,nx),u)\n",
        "plt.show()"
      ],
      "execution_count": null,
      "outputs": [
        {
          "output_type": "display_data",
          "data": {
            "image/png": "[encoded data removed]",
            "text/plain": [
              "<Figure size 432x288 with 1 Axes>"
            ]
          },
          "metadata": {
            "needs_background": "light"
          }
        }
      ]
    },
    {
      "cell_type": "markdown",
      "metadata": {
        "id": "9wBJ51barwQJ"
      },
      "source": [
        "Agora, vamos implementar a discretização da equação de convecção usando um esquema de diferença finita.  \n",
        "\n",
        "Para cada elemento da nossa matriz `u`, precisamos realizar a operação\n",
        "\n",
        " $$u_i^{n+1} = u_i^n - c \\frac{\\Delta t}{\\Delta x}(u_i^n-u_{i-1}^n)$$\n",
        "\n",
        "Armazenaremos o resultado num novo conjunto (temporário) `un`, que será a solução $u$ para a próxima etapa.  Repetiremos esta operação por tantos passos de tempo quantos especificarmos e depois poderemos ver até que ponto a onda convectou.  \n",
        "\n",
        "\n",
        "Agora, temos duas operações iterativas: uma no espaço e outra no tempo (aprenderemos de forma diferente mais tarde), por isso começaremos por colocar um laço dentro do outro. Note-se a utilização da função  `range()`. Quando escrevemos: para i no intervalo(1,nx)`a iteração será feita através da matriz `u`, mas saltaremos o primeiro elemento (o elemento zero). *Por que?*  "
      ]
    },
    {
      "cell_type": "code",
      "metadata": {
        "id": "GEqKk59NrRcV"
      },
      "source": [
        "un = np.ones(nx)\n",
        "\n",
        "for n in range(nt):\n",
        "  un = u.copy()\n",
        "  for i in range(1,nx):\n",
        "    u[i] = un[i] - c* dt/dx*(un[i]-un[i-1])"
      ],
      "execution_count": null,
      "outputs": []
    },
    {
      "cell_type": "code",
      "metadata": {
        "colab": {
          "base_uri": "https://localhost:8080/",
          "height": 265
        },
        "id": "VR0mowPRsyNi",
        "outputId": "6e7180cc-353c-4049-b907-efca25462099"
      },
      "source": [
        "plt.plot(np.linspace(0,2,nx),u);"
      ],
      "execution_count": null,
      "outputs": [
        {
          "output_type": "display_data",
          "data": {
            "image/png": "[encoded data removed]",
            "text/plain": [
              "<Figure size 432x288 with 1 Axes>"
            ]
          },
          "metadata": {
            "needs_background": "light"
          }
        }
      ]
    },
    {
      "cell_type": "markdown",
      "metadata": {
        "id": "RrUWHgAEvDMb"
      },
      "source": [
        "## Convecção não-linear\n",
        "\n",
        "Agora vamos implementar a convecção não linear utilizando os mesmos métodos que na etapa acima.  A equação de convecção 1D é:\n",
        "\n",
        "$$\\frac{\\partial u}{\\partial t} + u \\frac{\\partial u}{\\partial x} = 0$$\n",
        "\n",
        "Em vez de um factor constante $c$ multiplicando o segundo termo, agora temos a solução $u$ multiplicando-o. Assim, o segundo termo da equação é agora *não-linear*. Vamos utilizar a mesma discretização que na etapa acima - diferença para a frente no tempo e diferença para trás no espaço. Aqui está a equação discretizada.\n",
        "\n",
        "$$\\frac{u_i^{n+1}-u_i^n}{\\Delta t} + u_i^n \\frac{u_i^n-u_{i-1}^n}{\\Delta x} = 0$$\n",
        "\n",
        "Resolvendo para o único termo desconhecido, $u_i^{n+1}$, temos:\n",
        "\n",
        "$$u_i^{n+1} = u_i^n - u_i^n \\frac{\\Delta t}{\\Delta x} (u_i^n - u_{i-1}^n)$$"
      ]
    },
    {
      "cell_type": "markdown",
      "metadata": {
        "id": "Qi4ZKBVfwhm3"
      },
      "source": [
        "Como antes, o código Python começa por carregar as bibliotecas necessárias. Depois, declaramos algumas variáveis que determinam a discretização no espaço e no tempo (altere estes parâmetros para ver o que acontece). Depois, criamos a condição inicial $u_0$ inicializando a array para a solução usando $u = 2\\ @\\ 0,5 \\leq x \\leq 1$ e $u = 1$ em qualquer outro lugar em $(0,2)$ (i.e., uma função de chapéu)."
      ]
    },
    {
      "cell_type": "code",
      "metadata": {
        "id": "48VkE4bes7kg"
      },
      "source": [
        "nx = 41\n",
        "dx = 2 / (nx - 1)\n",
        "nt = 40    #nt is the number of timesteps we want to calculate\n",
        "dt = .025  #dt is the amount of time each timestep covers (delta t)\n",
        "\n",
        "u = numpy.ones(nx)      #as before, we initialize u with every value equal to 1.\n",
        "u[int(.5 / dx) : int(1 / dx + 1)] = 2  #then set u = 2 between 0.5 and 1 as per our I.C.s\n",
        "\n",
        "un = numpy.ones(nx) #initialize our placeholder array un, to hold the time-stepped solution"
      ],
      "execution_count": null,
      "outputs": []
    },
    {
      "cell_type": "code",
      "metadata": {
        "id": "4Q9Y18K6wwXL",
        "colab": {
          "base_uri": "https://localhost:8080/",
          "height": 265
        },
        "outputId": "78ca00de-6cb5-49ce-e1fd-368311f27501"
      },
      "source": [
        "for n in range(nt):  #iterate through time\n",
        "    un = u.copy() ##copy the existing values of u into un\n",
        "    for i in range(1, nx):  ##now we'll iterate through the u array\n",
        "    \n",
        "     ###This is the line from Step 1, copied exactly.  Edit it for our new equation.\n",
        "     ###then uncomment it and run the cell to evaluate Step 2   \n",
        "      \n",
        "        u[i] = un[i] - un[i] * dt / dx * (un[i] - un[i-1]) \n",
        "\n",
        "        \n",
        "plt.plot(numpy.linspace(0, 2, nx), u) ##Plot the results\n",
        "plt.show()\n"
      ],
      "execution_count": null,
      "outputs": [
        {
          "output_type": "display_data",
          "data": {
            "image/png": "[encoded data removed]",
            "text/plain": [
              "<Figure size 432x288 with 1 Axes>"
            ]
          },
          "metadata": {
            "needs_background": "light"
          }
        }
      ]
    },
    {
      "cell_type": "markdown",
      "metadata": {
        "id": "AR4bgcaZynP1"
      },
      "source": [
        "Provavelmente, você deve estar curioso porque é que a alteração dos parâmetros de discretização afeta a sua solução de uma forma tão drástica."
      ]
    },
    {
      "cell_type": "markdown",
      "metadata": {
        "id": "ulzPIMm2zL2N"
      },
      "source": [
        "Nos primeiros passos, utilizamos as mesmas condições iniciais e de contorno. Com os parâmetros que sugerimos inicialmente, a grade tem 41 pontos e a duração do intervalo de tempo é de 0,25 segundos. Agora, vamos experimentar aumentar o tamanho da nossa grade. O código abaixo é idêntico ao código que utilizamos no acima, mas aqui foi agrupado numa função para que possamos examinar facilmente o que acontece à medida que ajustamos apenas uma variável: o tamanho da grade."
      ]
    },
    {
      "cell_type": "code",
      "metadata": {
        "id": "Vufbk2Wtw-hk"
      },
      "source": [
        "def linearconv(nx):\n",
        "  dx = 2/(nx-1)\n",
        "  nt =20\n",
        "  dt = 0.025 \n",
        "  c= 1 \n",
        "\n",
        "  u = np.ones(nx)\n",
        "  u[int(.5 / dx) : int(1 / dx + 1)] = 2  #then set u = 2 between 0.5 and 1 as per our I.C.s\n",
        "  un= np.ones(nx)\n",
        "\n",
        "  for n in range(nt):\n",
        "    un = u.copy()\n",
        "    for i in range(1,nx):\n",
        "      u[i] = un[i] - c * dt / dx * (un[i]-un[i-1])\n",
        "\n",
        "\n",
        "  plt.plot(np.linspace(0,2,nx),u)\n",
        "  plt.show()    \n"
      ],
      "execution_count": null,
      "outputs": []
    },
    {
      "cell_type": "code",
      "metadata": {
        "colab": {
          "base_uri": "https://localhost:8080/",
          "height": 265
        },
        "id": "dtInvLJyzeCP",
        "outputId": "69bb5772-f580-460e-c069-c0038c2574ac"
      },
      "source": [
        "linearconv(41)"
      ],
      "execution_count": null,
      "outputs": [
        {
          "output_type": "display_data",
          "data": {
            "image/png": "[encoded data removed]",
            "text/plain": [
              "<Figure size 432x288 with 1 Axes>"
            ]
          },
          "metadata": {
            "needs_background": "light"
          }
        }
      ]
    },
    {
      "cell_type": "code",
      "metadata": {
        "colab": {
          "base_uri": "https://localhost:8080/",
          "height": 265
        },
        "id": "6R_-7JzPzhMk",
        "outputId": "04893412-7cab-4490-bcf8-634f6d94046a"
      },
      "source": [
        "linearconv(51)"
      ],
      "execution_count": null,
      "outputs": [
        {
          "output_type": "display_data",
          "data": {
            "image/png": "[encoded data removed]",
            "text/plain": [
              "<Figure size 432x288 with 1 Axes>"
            ]
          },
          "metadata": {
            "needs_background": "light"
          }
        }
      ]
    },
    {
      "cell_type": "code",
      "metadata": {
        "colab": {
          "base_uri": "https://localhost:8080/",
          "height": 265
        },
        "id": "J5yfz2BAzjGb",
        "outputId": "f6a97d54-1b4f-420a-9601-e5a33c3d489c"
      },
      "source": [
        "linearconv(81)"
      ],
      "execution_count": null,
      "outputs": [
        {
          "output_type": "display_data",
          "data": {
            "image/png": "[encoded data removed]",
            "text/plain": [
              "<Figure size 432x288 with 1 Axes>"
            ]
          },
          "metadata": {
            "needs_background": "light"
          }
        }
      ]
    },
    {
      "cell_type": "code",
      "metadata": {
        "colab": {
          "base_uri": "https://localhost:8080/",
          "height": 265
        },
        "id": "hBkQV8xQzlB8",
        "outputId": "5a655271-a9d7-4741-aba9-2fbfc35b494b"
      },
      "source": [
        "linearconv(85)"
      ],
      "execution_count": null,
      "outputs": [
        {
          "output_type": "display_data",
          "data": {
            "image/png": "[encoded data removed]",
            "text/plain": [
              "<Figure size 432x288 with 1 Axes>"
            ]
          },
          "metadata": {
            "needs_background": "light"
          }
        }
      ]
    },
    {
      "cell_type": "markdown",
      "metadata": {
        "id": "HfpVoKuA0WPp"
      },
      "source": [
        "Para responder a essa pergunta, temos que pensar um pouco sobre o que estamos realmente implementando em código.  \n",
        "\n",
        "Em cada iteração de nosso ciclo de tempo, usamos os dados existentes sobre nossa onda para estimar a velocidade da onda na etapa de tempo subseqüente.  Inicialmente, o aumento do número de pontos de grade retornou respostas mais precisas.  Houve menos difusão numérica e a onda quadrada se parecia muito mais com uma onda quadrada do que no nosso primeiro exemplo.  \n",
        "\n",
        "Cada iteração de nosso loop de tempo cobre um passo de comprimento $\\Delta t$, que temos definido como 0,025\n",
        "\n",
        "Durante esta iteração, avaliamos a velocidade da onda em cada um dos pontos de $x$ que criamos.  No último gráfico, algo claramente deu errado.  \n",
        "\n",
        "O que aconteceu é que durante o período de tempo $\\Delta t$, a onda está percorrendo uma distância maior que `dx`.  O comprimento `dx` de cada caixa de grade está relacionado ao número total de pontos `nx`, de modo que a estabilidade pode ser imposta se o tamanho do degrau $\\Delta t$ for calculado em relação ao tamanho do `dx`.  \n",
        "\n",
        "$$\\sigma = \\frac{u \\Delta t}{\\Delta x} \\leq \\sigma_{\\max}$$\n",
        "\n",
        "onde $u$ é a velocidade da onda; $\\sigma$ é chamado de **Número de Corrant** e o valor de $\\sigma_{\\max}$ que garantirá a estabilidade depende da discretização utilizada. \n",
        "\n",
        "Em uma nova versão de nosso código, utilizaremos o número CFL para calcular o tempo apropriado `dt` dependendo do tamanho do `dx`.  "
      ]
    },
    {
      "cell_type": "code",
      "metadata": {
        "id": "HNQSb7_KzpgY"
      },
      "source": [
        "def linearconv(nx):\n",
        "  dx = 2/(nx-1)\n",
        "  nt =20\n",
        "  sigma = 0.5\n",
        "  dt = sigma *dx \n",
        "  c= 1 \n",
        "\n",
        "  u = np.ones(nx)\n",
        "  u[int(.5 / dx) : int(1 / dx + 1)] = 2  #then set u = 2 between 0.5 and 1 as per our I.C.s\n",
        "  un= np.ones(nx)\n",
        "\n",
        "  for n in range(nt):\n",
        "    un = u.copy()\n",
        "    for i in range(1,nx):\n",
        "      u[i] = un[i] - c * dt / dx * (un[i]-un[i-1])\n",
        "\n",
        "\n",
        "  plt.plot(np.linspace(0,2,nx),u)\n",
        "  plt.show()    "
      ],
      "execution_count": null,
      "outputs": []
    },
    {
      "cell_type": "code",
      "metadata": {
        "colab": {
          "base_uri": "https://localhost:8080/",
          "height": 265
        },
        "id": "yZltgoLA0sjz",
        "outputId": "d9522d6b-cd30-4992-eaf5-8768148da319"
      },
      "source": [
        "linearconv(41)"
      ],
      "execution_count": null,
      "outputs": [
        {
          "output_type": "display_data",
          "data": {
            "image/png": "[encoded data removed]",
            "text/plain": [
              "<Figure size 432x288 with 1 Axes>"
            ]
          },
          "metadata": {
            "needs_background": "light"
          }
        }
      ]
    },
    {
      "cell_type": "code",
      "metadata": {
        "colab": {
          "base_uri": "https://localhost:8080/",
          "height": 265
        },
        "id": "ATcO2R1t02SH",
        "outputId": "8f0be6ec-8ac4-47c1-f49a-7ea147a402d3"
      },
      "source": [
        "linearconv(61)"
      ],
      "execution_count": null,
      "outputs": [
        {
          "output_type": "display_data",
          "data": {
            "image/png": "[encoded data removed]",
            "text/plain": [
              "<Figure size 432x288 with 1 Axes>"
            ]
          },
          "metadata": {
            "needs_background": "light"
          }
        }
      ]
    },
    {
      "cell_type": "code",
      "metadata": {
        "colab": {
          "base_uri": "https://localhost:8080/",
          "height": 265
        },
        "id": "ICfQrXfe03z6",
        "outputId": "834a0d2f-82f9-49ea-816e-f8cc2ade4c36"
      },
      "source": [
        "linearconv(85)"
      ],
      "execution_count": null,
      "outputs": [
        {
          "output_type": "display_data",
          "data": {
            "image/png": "[encoded data removed]",
            "text/plain": [
              "<Figure size 432x288 with 1 Axes>"
            ]
          },
          "metadata": {
            "needs_background": "light"
          }
        }
      ]
    },
    {
      "cell_type": "markdown",
      "metadata": {
        "id": "UaVNvDHc1DIy"
      },
      "source": [
        "Observe que à medida que o número de pontos nx aumenta, a onda convecta uma distância cada vez menor. O número de iterações de tempo em que avançamos a solução é mantido constante em nt = 20, mas dependendo do valor de nx e dos valores correspondentes de dx e dt, uma janela de tempo mais curta está sendo examinada em geral."
      ]
    },
    {
      "cell_type": "markdown",
      "metadata": {
        "id": "0WoCJzKq70DA"
      },
      "source": [
        "Veja o que acontece quando implementamos a condição de Corrant\n",
        " no integração da equação de convecção não-linear: "
      ]
    },
    {
      "cell_type": "code",
      "metadata": {
        "id": "tPgRUd2y7gxO"
      },
      "source": [
        "def nonlinearconv(nx):\n",
        "  dx = 2/(nx-1)\n",
        "  nt =20\n",
        "  sigma = 0.5\n",
        "  dt = sigma *dx \n",
        "  c= 1 \n",
        "\n",
        "  u = np.ones(nx)\n",
        "  u[int(.5 / dx) : int(1 / dx + 1)] = 2  #then set u = 2 between 0.5 and 1 as per our I.C.s\n",
        "  un= np.ones(nx)\n",
        "\n",
        "  for n in range(nt):\n",
        "    un = u.copy()\n",
        "    for i in range(1,nx):\n",
        "      u[i] = un[i] - un[i] * dt / dx * (un[i]-un[i-1])\n",
        "\n",
        "\n",
        "  plt.plot(np.linspace(0,2,nx),u)\n",
        "  plt.show()  "
      ],
      "execution_count": null,
      "outputs": []
    },
    {
      "cell_type": "code",
      "metadata": {
        "colab": {
          "base_uri": "https://localhost:8080/",
          "height": 265
        },
        "id": "gtLwV1Ax7oO2",
        "outputId": "51e183d4-0b56-492c-b5cf-98799d3a1640"
      },
      "source": [
        "nonlinearconv(81)"
      ],
      "execution_count": null,
      "outputs": [
        {
          "output_type": "display_data",
          "data": {
            "image/png": "[encoded data removed]",
            "text/plain": [
              "<Figure size 432x288 with 1 Axes>"
            ]
          },
          "metadata": {
            "needs_background": "light"
          }
        }
      ]
    },
    {
      "cell_type": "markdown",
      "metadata": {
        "id": "vrTKvJQRabqP"
      },
      "source": [
        "## Equação de difusão unidimensional\n",
        "\n",
        "A equação de difusão unidimensional é dada por:\n",
        "$$\\frac{\\partial u}{\\partial t}= \\nu \\frac{\\partial^2 u}{\\partial x^2}$$\n",
        "\n",
        "A primeira coisa que você deve notar é que - a exemplo das duas equações simples anteriores que estudamos - esta equação tem uma derivada de segunda ordem. Primeiro precisamos aprender o que fazer com ela!\n"
      ]
    },
    {
      "cell_type": "markdown",
      "metadata": {
        "id": "LEn0b2B0bGBM"
      },
      "source": [
        "A derivada de segunda ordem pode ser representada geometricamente como a linha tangente à curva dada pela primeira derivada.  Descreveremos a derivada de segunda ordem com um esquema de Diferença Central: uma combinação de Diferença para frente e Diferença para trás da primeira derivada.  Considere a expansão de Taylor de $u_{i+1}$ e $u_{i-1}$ em torno de $u_i$:\n",
        "\n",
        "$u_{i+1} = u_i + \\Delta x \\frac{\\partial u}{\\partial x}\\bigg|_i + \\frac{\\Delta x^2}{2} \\frac{\\partial ^2 u}{\\partial x^2}\\bigg|_i + \\frac{\\Delta x^3}{3!} \\frac{\\partial ^3 u}{\\partial x^3}\\bigg|_i + O(\\Delta x^4)$\n",
        "\n",
        "$u_{i-1} = u_i - \\Delta x \\frac{\\partial u}{\\partial x}\\bigg|_i + \\frac{\\Delta x^2}{2} \\frac{\\partial ^2 u}{\\partial x^2}\\bigg|_i - \\frac{\\Delta x^3}{3!} \\frac{\\partial ^3 u}{\\partial x^3}\\bigg|_i + O(\\Delta x^4)$\n",
        "\n",
        "Se adicionarmos estas duas expansões, você pode ver que os termos derivados de número ímpar se cancelarão mutuamente.  Se negligenciarmos qualquer termo de $O(\\Delta x^4)$ ou superior (e realmente, esses são muito pequenos), então podemos reorganizar a soma dessas duas expansões para resolver para nosso segundo derivativo.  \n"
      ]
    },
    {
      "cell_type": "markdown",
      "metadata": {
        "id": "WfVN9E2Cbqmp"
      },
      "source": [
        "$u_{i+1} + u_{i-1} = 2u_i+\\Delta x^2 \\frac{\\partial ^2 u}{\\partial x^2}\\bigg|_i + O(\\Delta x^4)$\n",
        "\n",
        "Em seguida, reordenamos os termos e o resultado é \n",
        "\n",
        "$$\\frac{\\partial ^2 u}{\\partial x^2}=\\frac{u_{i+1}-2u_{i}+u_{i-1}}{\\Delta x^2} + O(\\Delta x^2)$$\n"
      ]
    },
    {
      "cell_type": "markdown",
      "metadata": {
        "id": "kwkqbFuSmMTX"
      },
      "source": [
        "Podemos agora escrever a versão discretizada da equação de difusão em 1D:\n",
        "\n",
        "$$\\frac{u_{i}^{n+1}-u_{i}^{n}}{\\Delta t}=\\nu\\frac{u_{i+1}^{n}-2u_{i}^{n}+u_{i-1}^{n}}{\\Delta x^2}$$\n",
        "\n",
        "Como antes, notamos que uma vez que temos uma condição inicial, o único desconhecido é $u_{i}^{n+1}$, então reordenamos a solução da equação para a nossa incógnita:\n",
        "\n",
        "$$u_{i}^{n+1}=u_{i}^{n}+\\frac{\\nu\\Delta t}{\\Delta x^2}(u_{i+1}^{n}-2u_{i}^{n}+u_{i-1}^{n})$$\n",
        "\n",
        "A equação discreta acima nos permite escrever um programa para avançar uma solução no tempo. Mas precisamos de uma condição inicial. Vamos continuar usando nossa favorita: a função chapéu. Assim, a $t=0$, $u=2$ no intervalo $0,5\\le x\\le 1$ e $u=1$ em todos os outros lugares. Estamos prontos para a numeração!"
      ]
    },
    {
      "cell_type": "code",
      "metadata": {
        "id": "XDXR6o6Fmxq8"
      },
      "source": [
        "import numpy as np\n",
        "import matplotlib.pyplot as plt\n",
        "\n"
      ],
      "execution_count": null,
      "outputs": []
    },
    {
      "cell_type": "code",
      "metadata": {
        "id": "_AoqGpaTqZo5"
      },
      "source": [
        "nx  = 41\n",
        "dx = 2 / (nx-1)\n",
        "nt = 100 \n",
        "nu = 0.3 \n",
        "sigma = 0.2\n",
        "dt = sigma * dx**2 /nu\n"
      ],
      "execution_count": null,
      "outputs": []
    },
    {
      "cell_type": "code",
      "metadata": {
        "id": "GrgaRlm_qu3Y"
      },
      "source": [
        "u = np.ones(nx)\n",
        "u[int( 0.5/ dx ):int( 1 / dx + 1 )] = 2"
      ],
      "execution_count": null,
      "outputs": []
    },
    {
      "cell_type": "code",
      "metadata": {
        "id": "Fj8R3vgWrIHw"
      },
      "source": [
        "un = np.ones(nx)"
      ],
      "execution_count": null,
      "outputs": []
    },
    {
      "cell_type": "code",
      "metadata": {
        "id": "tfvEQevKrQ6M"
      },
      "source": [
        "for n in range (nt):\n",
        "  un = u.copy()\n",
        "  for i in range (1, nx-1):\n",
        "\n",
        "    u[i] = un[i] + nu * dt / dx**2 * (un[i+1]-2*un[i]+un[i-1])\n",
        "     "
      ],
      "execution_count": null,
      "outputs": []
    },
    {
      "cell_type": "code",
      "metadata": {
        "colab": {
          "base_uri": "https://localhost:8080/",
          "height": 265
        },
        "id": "1uAKNeiBr6p7",
        "outputId": "fb507617-6c56-421d-ea7c-41336842013f"
      },
      "source": [
        "plt.plot(np.linspace(0,2,nx),u)\n",
        "plt.show()"
      ],
      "execution_count": null,
      "outputs": [
        {
          "output_type": "display_data",
          "data": {
            "image/png": "[encoded data removed]",
            "text/plain": [
              "<Figure size 432x288 with 1 Axes>"
            ]
          },
          "metadata": {
            "needs_background": "light"
          }
        }
      ]
    },
    {
      "cell_type": "code",
      "metadata": {
        "colab": {
          "base_uri": "https://localhost:8080/"
        },
        "id": "xsku0i5-sDeD",
        "outputId": "dc354714-280f-4f26-9dd0-4a91a556d4fa"
      },
      "source": [
        "nt*dt"
      ],
      "execution_count": null,
      "outputs": [
        {
          "output_type": "execute_result",
          "data": {
            "text/plain": [
              "0.1666666666666667"
            ]
          },
          "metadata": {},
          "execution_count": 19
        }
      ]
    },
    {
      "cell_type": "code",
      "metadata": {
        "id": "HrO82zExsNz_"
      },
      "source": [
        ""
      ],
      "execution_count": null,
      "outputs": []
    }
  ]
}