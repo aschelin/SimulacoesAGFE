{
  "nbformat": 4,
  "nbformat_minor": 0,
  "metadata": {
    "colab": {
      "name": "IntroPythonFunctions.ipynb",
      "provenance": [],
      "authorship_tag": "ABX9TyOjIiVm5AO6uByOxPbkOaVX",
      "include_colab_link": true
    },
    "kernelspec": {
      "name": "python3",
      "display_name": "Python 3"
    },
    "language_info": {
      "name": "python"
    }
  },
  "cells": [
    {
      "cell_type": "markdown",
      "metadata": {
        "id": "view-in-github",
        "colab_type": "text"
      },
      "source": [
        "<a href=\"https://colab.research.google.com/github/aschelin/SimulacoesAGFE/blob/main/IntroPythonFunctions.ipynb\" target=\"_parent\"><img src=\"https://colab.research.google.com/assets/colab-badge.svg\" alt=\"Open In Colab\"/></a>"
      ]
    },
    {
      "cell_type": "markdown",
      "metadata": {
        "id": "qWJspcnbfRL9"
      },
      "source": [
        "# Funções\n",
        "\n",
        "> Material didático baseado no livro:  *Python Programming and Numerical Methods - A Guide for Engineers and Scientists by Qingkai Kong Timmy Siauw and Alexandre Bayen. Imprint: Academic Press*."
      ]
    },
    {
      "cell_type": "markdown",
      "metadata": {
        "id": "6T22scc_fqpE"
      },
      "source": [
        "Na programação, uma função é uma sequência de instruções que executa uma tarefa específica. Uma função é um bloco de código que pode ser executado quando chamado. Uma função pode ter argumentos de entrada, que são disponibilizados a ela pelo usuário. As funções também têm parâmetros de saída, que são os resultados da função que o usuário espera receber assim que a função tiver concluído sua tarefa. Por exemplo, a função *math.sin* tem um argumento de entrada, um ângulo em radianos e um argumento de saída, uma aproximação da função sin calculada no ângulo de entrada (arredondado para 16 dígitos). A sequência de instruções para calcular esta aproximação constitui o corpo da função.\n",
        "\n",
        "Já vimos muitas funções integradas do Python, como type, len e assim por diante. Também vimos as funções de alguns pacotes, por exemplo, *math.sin*, *np.array* e assim por diante. \n",
        "\n",
        "**Exemplo:** Verifique se *len* é uma função interna usando a função type."
      ]
    },
    {
      "cell_type": "code",
      "metadata": {
        "colab": {
          "base_uri": "https://localhost:8080/"
        },
        "id": "AbrI5Fa5fPe3",
        "outputId": "ad909168-eae2-4b03-9632-fc5b1e0ae770"
      },
      "source": [
        "type(len)"
      ],
      "execution_count": null,
      "outputs": [
        {
          "output_type": "execute_result",
          "data": {
            "text/plain": [
              "builtin_function_or_method"
            ]
          },
          "metadata": {
            "tags": []
          },
          "execution_count": 1
        }
      ]
    },
    {
      "cell_type": "code",
      "metadata": {
        "colab": {
          "base_uri": "https://localhost:8080/"
        },
        "id": "lOuXXgV3gKQw",
        "outputId": "b677534a-467b-430c-bdbd-f2d089ceae91"
      },
      "source": [
        "import numpy as np\n",
        "\n",
        "type(np.linspace)"
      ],
      "execution_count": 1,
      "outputs": [
        {
          "output_type": "execute_result",
          "data": {
            "text/plain": [
              "function"
            ]
          },
          "metadata": {},
          "execution_count": 1
        }
      ]
    },
    {
      "cell_type": "code",
      "metadata": {
        "id": "hmGLWsfKgPT2"
      },
      "source": [
        "# para obter informações sobre a função, basta colocar um ponto de interrogação\n",
        "np.linspace?"
      ],
      "execution_count": 2,
      "outputs": []
    },
    {
      "cell_type": "markdown",
      "metadata": {
        "id": "ybeHmwRKgkI1"
      },
      "source": [
        "Podemos definir as nossas próprias funções. Uma função pode ser especificada de várias maneiras. Aqui iremos apresentar a forma mais comum: uma função que pode ser especificada usando a palavra-chave def, como mostrado a seguir"
      ]
    },
    {
      "cell_type": "markdown",
      "metadata": {
        "id": "6R6bHOcA5Qqk"
      },
      "source": [
        "Definir uma função, você precisa dos componentes a seguir:\n",
        "\n",
        "* Cabeçalho de função: um cabeçalho de função começa com uma palavra-chave def, seguida por um par de parênteses com os argumentos de entrada dentro e termina com dois pontos (:)\n",
        "\n",
        "* Corpo da função: um bloco recuado (geralmente quatro espaços em branco) para indicar o corpo principal da função. Consiste em 3 partes:\n",
        "\n",
        "* String descritiva: uma string que descreve a função que pode ser acessada pela função help () ou pelo ponto de interrogação. Você pode escrever qualquer string dentro, pode ser várias linhas.\n",
        "\n",
        "* Instruções de função: são as instruções passo a passo que a função executará quando a chamarmos. Você também pode notar que há uma linha que começa com ‘#’, esta é uma linha de comentário, o que significa que a função não irá executá-la.\n",
        "\n",
        "* Declarações de retorno: uma função pode retornar alguns parâmetros depois que a função é chamada, mas isso é opcional, podemos ignorá-lo. Qualquer tipo de dados pode ser retornado, até mesmo uma função, explicaremos mais tarde.\n",
        "\n",
        "DICA: Quando seu código se torna mais longo e complicado, os comentários ajudam você e aqueles que estão lendo seu código a navegar por ele e entender o que você está tentando fazer. Adquirir o hábito de comentar com frequência ajudará a evitar que você cometa erros de codificação, compreender para onde seu código está indo ao escrevê-lo e encontrar erros quando você cometer erros. Também é comum colocar uma descrição da função, autor e data de criação na string descritiva sob o cabeçalho da função, mesmo que seja opcional (você pode pular a string descritiva). É altamente recomendável que você comente bastante em seu próprio código.\n",
        "\n",
        "**Exemplo:** Defina uma função chamada *my_adder* para pegar em 3 números e somá-los."
      ]
    },
    {
      "cell_type": "code",
      "metadata": {
        "id": "lrotkdlHgSnj"
      },
      "source": [
        "def my_adder(a, b, c):\n",
        "    \"\"\"\n",
        "    function to sum the 3 numbers\n",
        "    Input: 3 numbers a, b, c\n",
        "    Output: the sum of a, b, and c\n",
        "    author:\n",
        "    date:\n",
        "    \"\"\"\n",
        "    \n",
        "    # this is the summation\n",
        "    out = a + b + c\n",
        "    \n",
        "    return out\n"
      ],
      "execution_count": null,
      "outputs": []
    },
    {
      "cell_type": "markdown",
      "metadata": {
        "id": "rhNxft5n6JmF"
      },
      "source": [
        "**Importante:** Se você não recuar seu código para definir a função, aparecerá um *IndentationError*."
      ]
    },
    {
      "cell_type": "code",
      "metadata": {
        "colab": {
          "base_uri": "https://localhost:8080/"
        },
        "id": "oPw-DtMl479x",
        "outputId": "b9877da4-6007-4628-8487-ea0992463859"
      },
      "source": [
        "d = my_adder(1, 2, 3)\n",
        "d"
      ],
      "execution_count": null,
      "outputs": [
        {
          "output_type": "execute_result",
          "data": {
            "text/plain": [
              "6"
            ]
          },
          "metadata": {
            "tags": []
          },
          "execution_count": 3
        }
      ]
    },
    {
      "cell_type": "code",
      "metadata": {
        "colab": {
          "base_uri": "https://localhost:8080/"
        },
        "id": "eCn6KbXa63OC",
        "outputId": "6866aedb-2eae-40a8-9f88-b8474fb1c88c"
      },
      "source": [
        "help(my_adder)"
      ],
      "execution_count": null,
      "outputs": [
        {
          "output_type": "stream",
          "text": [
            "Help on function my_adder in module __main__:\n",
            "\n",
            "my_adder(a, b, c)\n",
            "    function to sum the 3 numbers\n",
            "    Input: 3 numbers a, b, c\n",
            "    Output: the sum of a, b, and c\n",
            "    author:\n",
            "    date:\n",
            "\n"
          ],
          "name": "stdout"
        }
      ]
    },
    {
      "cell_type": "markdown",
      "metadata": {
        "id": "aH-IkA__7Kur"
      },
      "source": [
        "## Funções Lambda\n",
        "\n",
        "Às vezes, não queremos usar a maneira normal para definir uma função, especialmente se nossa função for apenas uma linha. Nesse caso, podemos usar a função anônima no Python, que é uma função definida sem um nome. Esse tipo de função também é chamada de função *labmda*, pois é definida com a palavra-chave labmda. Uma função lambda típica é definida:"
      ]
    },
    {
      "cell_type": "code",
      "metadata": {
        "colab": {
          "base_uri": "https://localhost:8080/"
        },
        "id": "xYWh0_b065_V",
        "outputId": "6ac51529-778f-4d96-a50d-fa03e90628c0"
      },
      "source": [
        "lambda arguments: expression"
      ],
      "execution_count": null,
      "outputs": [
        {
          "output_type": "execute_result",
          "data": {
            "text/plain": [
              "<function __main__.<lambda>>"
            ]
          },
          "metadata": {
            "tags": []
          },
          "execution_count": 5
        }
      ]
    },
    {
      "cell_type": "markdown",
      "metadata": {
        "id": "uOIIaA8q7flB"
      },
      "source": [
        "**Exemplo:** Defina uma função lambda, que eleva ao quadrado o número de entrada. E chame a função com as entradas 2 e 5."
      ]
    },
    {
      "cell_type": "code",
      "metadata": {
        "colab": {
          "base_uri": "https://localhost:8080/"
        },
        "id": "CGw5Ppzg7ZLh",
        "outputId": "76cd1991-4ed2-4fc0-9037-6b908186b18c"
      },
      "source": [
        "square = lambda x: x**2\n",
        "\n",
        "print(square(2))\n",
        "print(square(5))"
      ],
      "execution_count": null,
      "outputs": [
        {
          "output_type": "stream",
          "text": [
            "4\n",
            "25\n"
          ],
          "name": "stdout"
        }
      ]
    },
    {
      "cell_type": "markdown",
      "metadata": {
        "id": "fJJgQnHP70q4"
      },
      "source": [
        "Essa função lambda é equivalente a:"
      ]
    },
    {
      "cell_type": "code",
      "metadata": {
        "id": "V7tjpn5d7s_c"
      },
      "source": [
        "def square(x):\n",
        "    return x**2"
      ],
      "execution_count": 3,
      "outputs": []
    },
    {
      "cell_type": "markdown",
      "metadata": {
        "id": "VbI-3qqi8JxH"
      },
      "source": [
        "Aqui, mostramos um caso de uso comum para a função lambda:\n",
        "\n",
        "**Exemplo:** Classifique [(1, 2), (2, 0), (4, 1)] com base no segundo item da tupla."
      ]
    },
    {
      "cell_type": "code",
      "metadata": {
        "colab": {
          "base_uri": "https://localhost:8080/"
        },
        "id": "qoOk-vOA79mR",
        "outputId": "c79df766-74bd-42ce-8aa9-ddf22988fcc5"
      },
      "source": [
        "sorted([(1, 2), (2, 0), (4, 1)], key=lambda x: x[1])"
      ],
      "execution_count": 4,
      "outputs": [
        {
          "output_type": "execute_result",
          "data": {
            "text/plain": [
              "[(2, 0), (4, 1), (1, 2)]"
            ]
          },
          "metadata": {},
          "execution_count": 4
        }
      ]
    },
    {
      "cell_type": "markdown",
      "metadata": {
        "id": "Ps-s4FNZ8hIk"
      },
      "source": [
        "O que aconteceu? A função *sorted* possui um argumento, onde uma função de personalizada pode ser fornecida para indicar a ordem de classificação. Usamos a função lambda como um atalho para esta função personalizada."
      ]
    },
    {
      "cell_type": "code",
      "metadata": {
        "id": "yDLmSwN98afI"
      },
      "source": [
        ""
      ],
      "execution_count": 4,
      "outputs": []
    }
  ]
}