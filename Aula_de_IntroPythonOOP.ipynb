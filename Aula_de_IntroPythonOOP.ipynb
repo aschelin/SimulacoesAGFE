{
  "nbformat": 4,
  "nbformat_minor": 0,
  "metadata": {
    "colab": {
      "name": "Aula de IntroPythonOOP.ipynb",
      "provenance": [],
      "authorship_tag": "ABX9TyOZQeY1B/dBbJMKzaEP5Jbd",
      "include_colab_link": true
    },
    "kernelspec": {
      "name": "python3",
      "display_name": "Python 3"
    },
    "language_info": {
      "name": "python"
    }
  },
  "cells": [
    {
      "cell_type": "markdown",
      "metadata": {
        "id": "view-in-github",
        "colab_type": "text"
      },
      "source": [
        "<a href=\"https://colab.research.google.com/github/aschelin/SimulacoesAGFE/blob/main/Aula_de_IntroPythonOOP.ipynb\" target=\"_parent\"><img src=\"https://colab.research.google.com/assets/colab-badge.svg\" alt=\"Open In Colab\"/></a>"
      ]
    },
    {
      "cell_type": "markdown",
      "metadata": {
        "id": "gtw-WyS_kwio"
      },
      "source": [
        "# Programação Orientada a Objeto\n",
        "\n",
        "> Material didático baseado no livro:  *Python Programming and Numerical Methods - A Guide for Engineers and Scientists by Qingkai Kong Timmy Siauw and Alexandre Bayen. Imprint: Academic Press*.\n",
        "\n",
        "Frequentemente precisamos usar pacotes, como *scipy*, *numpy* ou outros pacotes de domínio especificado. Ao verificar o código-fonte desses pacotes, você pode ver novas palavras-chave no código, como as *classes*. \n",
        "\n",
        "*O que são classes e por que as usamos?* \n",
        "\n",
        "Este é um novo paradigma de programação - a **Programação Orientada a Objetos** (em inlgês, **O**bject **O**riented **P**rogramming - OOP) que é comumente usado para escrever programas ou pacotes grandes. \n",
        "\n",
        "Ao escrever um grande programa, a OOP tem uma série de vantagens, ela: \n",
        "\n",
        "* simplifica o código para melhor legibilidade;\n",
        "* descreve melhor o objetivo final do projeto;\n",
        "* é reutilizável e reduz o número de possíveis bugs no código.\n",
        "\n",
        "Dados esses recursos, você verá a OOP na maioria dos pacotes padrôes. Entender seus fundamentos nos ajuda a escrever um código melhor. Este tutorial apresenta os fundamentos da OOP, com ênfase nos componentes principais: **objeto**, **classe** e **herança**. \n",
        "\n",
        "Python é uma linguagem de programação altamente orientada a objetos e entender esses conceitos o ajudará a programar com o mínimo de dores de cabeça."
      ]
    },
    {
      "cell_type": "markdown",
      "metadata": {
        "id": "_g4Dt49vqNQq"
      },
      "source": [
        "Até agora, todos os códigos que escrevemos pertencem à categoria de programação orientada a procedimentos (POP), que consiste em uma lista de instruções para dizer ao computador o que fazer; essas instruções são organizadas em funções. O programa é dividido em uma coleção de variáveis, estruturas de dados e rotinas para realizar diferentes tarefas. \n",
        "\n",
        "Python é uma linguagem de programação multiparadigma, o que significa que oferece suporte a diferentes abordagens de programação. Uma maneira diferente de programar em Python é a programação orientada a objetos (OOP). A curva de aprendizado é mais íngreme, mas é extremamente poderosa e vale o tempo investido em dominá-la. \n",
        "\n",
        "Observação: você não precisa usar OOP ao programar em Python. Você ainda pode escrever programas muito poderosos usando o POP. Dito isso, o POP é bom para programas simples e pequenos, enquanto o OOP é mais adequado para programas grandes. Vamos dar uma olhada mais de perto na programação orientada a objetos.\n",
        "\n",
        "A programação orientada a objetos divi\n",
        "\n",
        "de a tarefa de programação em objetos, que combinam dados (conhecidos como *atributos*) e comportamentos / funções (conhecidos como *métodos*). Portanto, existem duas componentes principais da OOP: **classe** e **objeto**.\n",
        "\n",
        "A *classe* é um projeto para definir um agrupamento lógico de dados e funções. Ela fornece uma maneira de criar estruturas de dados que modelam entidades do mundo real. Por exemplo, podemos criar uma classe de pessoas que contém os dados como nome, idade e algumas funções de comportamento para imprimir idades e gêneros de um grupo de pessoas. Enquanto a classe é o projeto, um objeto é uma instância da classe com valores reais. Por exemplo, uma pessoa chamada 'Homem de Ferro' com 35 anos. *Colocando de outra forma, uma classe é como um modelo para definir as informações necessárias, e um objeto é uma cópia específica que preenche o modelo.* Além disso, os objetos instanciados da mesma classe são independentes uns dos outros. Por exemplo, se tivermos outra pessoa - ‘Batman’ com 33 anos, ele pode ser instanciado a partir da classe people, mas é uma instância independente.\n",
        "\n",
        "Vamos implementar o exemplo acima em Python. Não se preocupe se você não entender a sintaxe abaixo; a próxima seção fornece exemplos mais úteis."
      ]
    },
    {
      "cell_type": "code",
      "metadata": {
        "id": "v1KieXO1kvhX"
      },
      "source": [
        ""
      ],
      "execution_count": null,
      "outputs": []
    },
    {
      "cell_type": "code",
      "metadata": {
        "id": "QgsfeO_KBmlx"
      },
      "source": [
        ""
      ],
      "execution_count": null,
      "outputs": []
    },
    {
      "cell_type": "code",
      "metadata": {
        "id": "MhjhUlD0BuJl"
      },
      "source": [
        ""
      ],
      "execution_count": null,
      "outputs": []
    },
    {
      "cell_type": "code",
      "metadata": {
        "id": "pPYYOODzBzaD"
      },
      "source": [
        "\n"
      ],
      "execution_count": null,
      "outputs": []
    },
    {
      "cell_type": "markdown",
      "metadata": {
        "id": "oACJ02bqCI8e"
      },
      "source": [
        "No exemplo de código acima, primeiro definimos uma classe - Pessoas, com nome e idade como os dados, e um método saudação. Em seguida, inicializamos um objeto - person1 com o nome e a idade específicos. Podemos ver claramente que a classe define toda a estrutura, enquanto o objeto é apenas uma instância da classe. Posteriormente, instanciamos outro objeto, person2. É claro que person1 e  person2 são independentes entre si, embora sejam todos instanciados na mesma classe."
      ]
    },
    {
      "cell_type": "markdown",
      "metadata": {
        "id": "gNlXzIsvCbbo"
      },
      "source": [
        "O conceito de OOP é criar um código reutilizável. Existem três princípios fundamentais para usar OOP:\n",
        "\n",
        "* Herança - uma maneira de criar novas classes a partir da classe existente sem modificá-la.\n",
        "\n",
        "* Encapsulamento - uma maneira de ocultar alguns dos detalhes privados de uma classe de outros objetos.\n",
        "\n",
        "* Polimorfismo - uma maneira de usar a operação comum de diferentes maneiras para diferentes entradas de dados.\n",
        "\n",
        "Com os princípios acima, há muitos benefícios de se usar OOP: Ele fornece uma estrutura modular clara para programas que aprimora a reutilização de código. \n"
      ]
    },
    {
      "cell_type": "markdown",
      "metadata": {
        "id": "P3iWr-GBEggg"
      },
      "source": [
        "A seção anterior apresentou os dois componentes principais de OOP: Class, que é um blueprint usado para definir um agrupamento lógico de dados e funções, e Object, que é uma instância da classe definida com valores reais. A seguir, entraremos em maiores detalhes sobre essas duas componentes."
      ]
    },
    {
      "cell_type": "markdown",
      "metadata": {
        "id": "Sb6slsTtEqRW"
      },
      "source": [
        "## Class\n",
        "\n",
        "Uma classe é uma definição da estrutura que desejamos. Semelhante a uma função, é definida como um bloco de código, começando com a instrução de classe. A sintaxe para definir uma classe é:\n",
        "\n",
        "class ClassName(superclass):\n",
        "    \n",
        "    def __init__(self, arguments):\n",
        "        # define or assign object attributes\n",
        "        \n",
        "    def other_methods(self, arguments):\n",
        "        # body of the method\n"
      ]
    },
    {
      "cell_type": "markdown",
      "metadata": {
        "id": "AN3ruMF6Fq_W"
      },
      "source": [
        "A definição de uma classe é semelhante a de uma função. Ela precisa ser instanciado antes de você poder usá-la. Para o nome da classe, é uma convenção padrão usar “CapWords”. A superclasse é usada quando você deseja criar uma nova classe para herdar os atributos e métodos de outra classe já definida. Falaremos mais sobre herança na próxima seção. \n",
        "\n",
        "O __init__ é um dos métodos especiais em classes Python que é executado assim que um objeto de uma classe é instanciado (criado). Ele atribui valores iniciais ao objeto antes de estar pronto para ser usado. Observe os dois sublinhados no início e no final do *init*, indicando que este é um método especial reservado para uso especial na linguagem. Neste método *init*, você pode criar atributos diretamente ao criar o objeto. \n",
        "\n",
        "As funções other_methods são usadas para definir os métodos de instância que serão aplicados nos atributos, assim como as funções que discutimos antes. Você pode notar que existe um parâmetro *self* para definir este método na classe. \n",
        "Por quê? Um método de instância de classe deve ter este argumento extra como o primeiro argumento quando você o define. Este argumento particular se refere ao próprio objeto; convencionalmente, usamos *self* para nomeá-lo. Por meio desse parâmetro próprio, os métodos de instância podem acessar livremente os atributos e outros métodos no mesmo objeto. Quando definimos ou chamamos um método de instância dentro de uma classe, precisamos usar este parâmetro próprio. Vejamos um exemplo abaixo."
      ]
    },
    {
      "cell_type": "markdown",
      "metadata": {
        "id": "1VwRvTFjGkY1"
      },
      "source": [
        "**EXEMPLO:** Defina uma classe chamada *Student*, com os atributos **sid** (student id), **name**, **gender**, **type** no método *init* e um método chamado *say_name* para imprimir o nome do aluno. Todos os atributos serão transmitidos, exceto o tipo (type), que terá um valor pré-definido (learning)."
      ]
    },
    {
      "cell_type": "code",
      "metadata": {
        "id": "CQdCXzHHB3-_"
      },
      "source": [
        ""
      ],
      "execution_count": null,
      "outputs": []
    },
    {
      "cell_type": "markdown",
      "metadata": {
        "id": "T4BDmYnrHXfc"
      },
      "source": [
        "A partir do exemplo acima, podemos ver que esta classe simples contém todas as partes necessárias mencionadas anteriormente. O método __init__ inicializará os atributos quando criarmos um objeto. Precisamos passar o valor inicial para sid, nome e gênero, enquanto o tipo de atributo é um valor fixo como learning”.\n",
        "\n",
        "Esses atributos podem ser acessados por todos os outros métodos definidos na classe com self.attribute, por exemplo, no método say_name, podemos usar o atributo name com self.name. Os métodos definidos na classe podem ser acessados e usados em outros métodos diferentes também usando *self.method*. Vejamos o seguinte exemplo.\n",
        "\n",
        "**Exemplo:** Adicione um relatório de método que imprima não apenas o nome do aluno, mas também a id do aluno. O método terá outra pontuação de argumento, que passará em um número entre 0 - 100 como parte do relatório."
      ]
    },
    {
      "cell_type": "code",
      "metadata": {
        "id": "PVh_XZ-5E1y5"
      },
      "source": [
        ""
      ],
      "execution_count": null,
      "outputs": []
    },
    {
      "cell_type": "markdown",
      "metadata": {
        "id": "-MI09EkiIWSo"
      },
      "source": [
        "## Objeto\n",
        "\n",
        "Conforme mencionado antes, um objeto é uma instância da classe definida com valores reais. Podemos ter muitas instâncias de valores diferentes associados à classe, e cada uma dessas instâncias será independente umas das outras, como vimos anteriormente. Além disso, depois de criar um objeto e chamar esse método de instância do objeto, não precisamos dar valor ao parâmetro self, pois o Python o fornece automaticamente. Veja o seguinte exemplo:"
      ]
    },
    {
      "cell_type": "markdown",
      "metadata": {
        "id": "GeBmiX1fIg2E"
      },
      "source": [
        "**EXEMPLO:** Crie dois objetos (“001”, “Susan”, “F”) e (“002”, “Mike”, “M”), e chame o método *say_name*."
      ]
    },
    {
      "cell_type": "code",
      "metadata": {
        "id": "cBfziTr9IEwV"
      },
      "source": [
        ""
      ],
      "execution_count": null,
      "outputs": []
    },
    {
      "cell_type": "markdown",
      "metadata": {
        "id": "rGCUyMUKI2U8"
      },
      "source": [
        "No código acima, criamos dois objetos, student1 e student2, com dois conjuntos diferentes de valores. Cada objeto é uma instância da classe *Student* e possui um conjunto diferente de atributos. Digite *student1.+TAB* para ver os atributos e métodos definidos. Para obter acesso a um atributo, digite *object.attribute*, por exemplo, *student1.type*. Em contraste, para chamar um método, você precisa dos parênteses porque está chamando uma função, como *student1.say_name()*.\n",
        "\n",
        "**Exemplo:** Use o método *Report* para aluno1 e aluno2 com pontuação 95 e 90 individualmente. Nota: não precisamos do “eu” como argumento aqui."
      ]
    },
    {
      "cell_type": "code",
      "metadata": {
        "id": "RtJEipp7IqFh"
      },
      "source": [
        ""
      ],
      "execution_count": null,
      "outputs": []
    },
    {
      "cell_type": "markdown",
      "metadata": {
        "id": "YyuDp9hLJx2N"
      },
      "source": [
        "Podemos ver os dois métodos chamando fazendo print dos dados associados aos dois objetos. Nota: o valor da pontuação que passamos está disponível apenas para o relatório do método (dentro do escopo deste método). Também podemos ver que a chamada do método *say_name* no relatório também funciona, contanto que você chame o método com o self nele."
      ]
    },
    {
      "cell_type": "markdown",
      "metadata": {
        "id": "Nx_SqfZvKWGv"
      },
      "source": [
        "Os atributos apresentados acima são chamados de atributos de instância, o que significa que pertencem apenas a uma instância específica; ao usá-los, você precisa usar o self.attribute dentro da classe. Existem outro tipo de atributos chamados atributos de classe, que serão compartilhados com todas as instâncias criadas a partir desta classe. Vejamos um exemplo de como definir e usar um atributo de classe.\n",
        "\n",
        "**EXEMPLO:** Modifique a classe *Student* para adicionar um atributo de classe *n*, que registrará quantos objetos estamos criando. Além disso, adicione um método *num_instances* para imprimir o número."
      ]
    },
    {
      "cell_type": "code",
      "metadata": {
        "id": "rvaa89lvJmEa"
      },
      "source": [
        ""
      ],
      "execution_count": null,
      "outputs": []
    },
    {
      "cell_type": "markdown",
      "metadata": {
        "id": "zh_bhc8iK6P8"
      },
      "source": [
        "Ao definir um atributo de classe, devemos defini-lo fora de todos os outros métodos, sem usar *self*. Para usar os atributos de classe, usamos *ClassName.attribute*, que neste caso é *Student.n*. Este atributo será compartilhado com todas as instâncias criadas a partir desta classe. Vamos ver o código a seguir para mostrar a ideia."
      ]
    },
    {
      "cell_type": "code",
      "metadata": {
        "id": "_MEcZ41nKonH"
      },
      "source": [
        ""
      ],
      "execution_count": null,
      "outputs": []
    },
    {
      "cell_type": "markdown",
      "metadata": {
        "id": "gf5KvgL-LdjW"
      },
      "source": [
        "Como antes, criamos dois objetos, o atributo de instância *sid*, *name*, *gender* pertencem apenas ao objeto específico. Por exemplo, *student1.name* é “Susan” e *student2.name* é “Mike”. Mas quando imprimimos o **atributo de classe** *Student.n_instances* depois de criarmos o objeto student2, aquele em student1 também muda. Essa é a expectativa que temos para o **atributo de classe** porque ele é compartilhado por *todos os objetos criados*.\n",
        "\n",
        "Agora que entendemos a diferença entre classe e instância, estamos em boa forma para usar OOP básico em Python. Antes de podermos tirar o máximo proveito da OOP, ainda precisamos entender o conceito de *herança, encapsulamento* e *polimorfismo*. Vamos começar a próxima seção."
      ]
    },
    {
      "cell_type": "markdown",
      "metadata": {
        "id": "k-dhB4PqMq5H"
      },
      "source": [
        "## Herança, encapsulamento e polimorfismo"
      ]
    },
    {
      "cell_type": "markdown",
      "metadata": {
        "id": "xHwD-sBlMytz"
      },
      "source": [
        "### Herança\n",
        "\n",
        "A herança nos permite definir uma classe que herda todos os métodos e atributos de outra classe. A convenção denota a nova classe como classe filha, e aquela da qual ela herda é chamada de classe pai ou superclasse. \n",
        "\n",
        "Se nos referirmos novamente à definição da estrutura da classe, podemos ver que a estrutura da herança básica é class ClassName (superclasse), o que significa que a nova classe pode acessar todos os atributos e métodos da superclasse. \n",
        "\n",
        "A herança constrói um relacionamento entre a classe filha e a classe pai, geralmente de forma que a classe pai seja um tipo geral, enquanto a classe filha é um tipo específico. Vamos tentar ver um exemplo.\n",
        "\n",
        "**Exemplo:** Defina uma classe chamada *Sensor* com os atributos *name*, *location* e *record_date* que passa a criação de um objeto e um atributo *data* como um dicionário vazio para armazenar dados. \n",
        "\n",
        "Crie um método *add_data* com *t* e *data* como parâmetros de entrada para incluir um carimbo de data/hora e as matrizes de dados. Dentro deste método, atribua *t* e *data* ao atributo de dados com 'tempo' e 'dados' como as chaves. Além disso, deve haver um método *clear_data* para excluir os dados."
      ]
    },
    {
      "cell_type": "code",
      "metadata": {
        "id": "0mLUGjwfLLdM"
      },
      "source": [
        ""
      ],
      "execution_count": null,
      "outputs": []
    },
    {
      "cell_type": "markdown",
      "metadata": {
        "id": "UzY9Pbo5OKos"
      },
      "source": [
        "Agora que temos uma classe para armazenar informações gerais do sensor, podemos criar um objeto sensor para armazenar alguns dados."
      ]
    },
    {
      "cell_type": "code",
      "metadata": {
        "id": "ZzEw_cFIOGRr"
      },
      "source": [
        ""
      ],
      "execution_count": null,
      "outputs": []
    },
    {
      "cell_type": "markdown",
      "metadata": {
        "id": "LZ4HP_NJO3fo"
      },
      "source": [
        "Digamos que temos um tipo diferente de sensor: um acelerômetro. Ele compartilha os mesmos atributos e métodos da classe Sensor, mas também tem diferentes atributos ou métodos que precisam ser acrescentados ou modificados da classe original. O que devemos fazer? Criamos uma classe diferente do zero? É aqui que a herança pode ser usada para tornar a vida mais fácil. Esta nova classe herdará da classe Sensor com todos os atributos e métodos. Podemos estender os atributos ou métodos. Vamos primeiro criar esta nova classe, Acelerômetro, e adicionar um novo método, show_type, para relatar que tipo de sensor ele é."
      ]
    },
    {
      "cell_type": "code",
      "metadata": {
        "id": "G8HhpTv_OTLz"
      },
      "source": [
        ""
      ],
      "execution_count": null,
      "outputs": []
    },
    {
      "cell_type": "markdown",
      "metadata": {
        "id": "3RfAqtTyPilp"
      },
      "source": [
        "Criar essa nova classe de *Accelerometer* é muito simples. Herdamos de *Sensor* (denotado como uma superclasse), e a nova classe realmente contém todos os atributos e métodos da superclasse. Em seguida, adicionamos um novo método, *show_type*, que não existe na classe *Sensor*, mas podemos estender a classe filha com sucesso adicionando o novo método. \n",
        "\n",
        "Isso mostra o poder da herança: reutilizamos a maior parte da classe *Sensor* em uma nova classe e estendemos a funcionalidade. Além disso, a herança configura um relacionamento lógico para a modelagem das entidades do mundo real: a classe *Sensor* como classe pai é mais geral e passa todas as características para a classe filha *Accelerometer*."
      ]
    },
    {
      "cell_type": "markdown",
      "metadata": {
        "id": "ny9BV4ciQJVV"
      },
      "source": [
        "Quando herdamos de uma classe pai, podemos mudar a implementação de um método fornecido pela classe pai. Isto é chamado de *substituição de método*. Vejamos o seguinte exemplo.\n",
        "\n",
        "**Exemplo:** Crie uma classe UCBAcc (um tipo específico de acelerômetro criado na UC Berkeley) que herda do Acelerômetro, mas substitua o método show_type que imprime o nome do sensor."
      ]
    },
    {
      "cell_type": "code",
      "metadata": {
        "id": "NGcLgM9sPI5x"
      },
      "source": [
        ""
      ],
      "execution_count": null,
      "outputs": []
    },
    {
      "cell_type": "markdown",
      "metadata": {
        "id": "yhMJQihBQnOm"
      },
      "source": [
        "Nossa nova classe *UCBAcc* realmente substitui o método *show_type* com novos recursos. Neste exemplo, não estamos apenas herdando recursos de nossa classe pai, mas também modificando/melhorando alguns métodos."
      ]
    },
    {
      "cell_type": "markdown",
      "metadata": {
        "id": "5lpVCYIxQ6Af"
      },
      "source": [
        "Vamos criar uma classe NewSensor que herda da classe Sensor, mas com atributos atualizados adicionando uma nova marca de atributo. Claro, podemos redefinir todo o método __init__ como mostrado abaixo e sobrescrever a função pai."
      ]
    },
    {
      "cell_type": "code",
      "metadata": {
        "id": "LHcmdLqpQfpn"
      },
      "source": [
        ""
      ],
      "execution_count": null,
      "outputs": []
    },
    {
      "cell_type": "markdown",
      "metadata": {
        "id": "68Flh6v6RHYR"
      },
      "source": [
        "No entanto, existe uma maneira melhor de conseguir o mesmo. Podemos usar o método super para evitar a referência explícita à classe pai. Vamos ver como fazer isso no exemplo a seguir:"
      ]
    },
    {
      "cell_type": "code",
      "metadata": {
        "id": "GruYklPgRBQ8"
      },
      "source": [
        ""
      ],
      "execution_count": 1,
      "outputs": []
    },
    {
      "cell_type": "markdown",
      "metadata": {
        "id": "04LpuZGcRn0M"
      },
      "source": [
        "Agora podemos ver que com o método super, evitamos listar todas as definições dos atributos -- isso ajuda a manter seu código sustentável no futuro. Mas é realmente útil quando você está fazendo herança múltipla\n",
        ", o que está além da discussão deste tutorial."
      ]
    },
    {
      "cell_type": "markdown",
      "metadata": {
        "id": "jyD-k1ecR66L"
      },
      "source": [
        "## Encapsulamento\n",
        "\n",
        "O encapsulamento é um dos conceitos fundamentais em OOP. Ele descreve a ideia de restringir o acesso a métodos e atributos em uma classe. Isso ocultará os detalhes complexos dos usuários e evitará que os dados sejam modificados acidentalmente. Em Python, isso é obtido usando métodos ou atributos privados usando sublinhado como prefixo, ou seja, $'_'$ simples ou $\"__\"$ duplo. Vejamos o seguinte exemplo."
      ]
    },
    {
      "cell_type": "code",
      "metadata": {
        "id": "CZ962zmhRTIs"
      },
      "source": [
        ""
      ],
      "execution_count": 1,
      "outputs": []
    },
    {
      "cell_type": "code",
      "metadata": {
        "id": "LSNC-sPbSdHG"
      },
      "source": [
        ""
      ],
      "execution_count": 1,
      "outputs": []
    },
    {
      "cell_type": "markdown",
      "metadata": {
        "id": "S_wTIdgmVRCW"
      },
      "source": [
        "O exemplo acima mostra como funciona o encapsulamento. Com um único sublinhado, definimos uma variável privada e ela não deve ser acessada diretamente. Mas isso é apenas uma convenção, nada o impede de fazer isso. Você ainda pode ter acesso a ela, se desejar. Com o sublinhado duplo, podemos ver que o atributo $__version$ não pode ser acessado ou modificado diretamente. Portanto, para obter acesso aos atributos de sublinhado duplo, precisamos usar as funções getter e setter para acessá-los internamente, conforme mostrado no exemplo a seguir."
      ]
    },
    {
      "cell_type": "code",
      "metadata": {
        "id": "3AiOj9BTSqxE"
      },
      "source": [
        ""
      ],
      "execution_count": 1,
      "outputs": []
    },
    {
      "cell_type": "code",
      "metadata": {
        "id": "uv8wUyCiWBD8"
      },
      "source": [
        ""
      ],
      "execution_count": 1,
      "outputs": []
    },
    {
      "cell_type": "markdown",
      "metadata": {
        "id": "K9zD7TK4WUtR"
      },
      "source": [
        "## Polimorfismo\n",
        "\n",
        "O polimorfismo é outro conceito fundamental em OOP. Ele significa *múltiplas formas*. O polimorfismo nos permite usar uma única interface com diferentes formas subjacentes, como tipos de dados ou classes. Por exemplo, podemos ter métodos comumente nomeados em classes ou classes filhas. Já vimos um exemplo acima, quando substituímos o método show_type no UCBAcc. Para a classe pai Acelerômetro e classe filha UCBAcc, ambos têm um método denominado show_type, mas têm implementações diferentes. Essa capacidade de usar um único nome com muitas formas agindo de maneira diferente em diferentes situações reduz muito nossas complexidades. Não vamos expandir para discutir mais sobre polimorfismo, se você estiver interessado, verifique mais online para obter um entendimento mais profundo."
      ]
    },
    {
      "cell_type": "code",
      "metadata": {
        "id": "38EEWHkQWDhk"
      },
      "source": [
        ""
      ],
      "execution_count": null,
      "outputs": []
    }
  ]
}