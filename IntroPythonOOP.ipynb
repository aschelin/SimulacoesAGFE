{
  "nbformat": 4,
  "nbformat_minor": 0,
  "metadata": {
    "colab": {
      "name": "IntroPythonOOP.ipynb",
      "provenance": [],
      "authorship_tag": "ABX9TyMBCU3lw5B4RZ8u6zQUEs5u",
      "include_colab_link": true
    },
    "kernelspec": {
      "name": "python3",
      "display_name": "Python 3"
    },
    "language_info": {
      "name": "python"
    }
  },
  "cells": [
    {
      "cell_type": "markdown",
      "metadata": {
        "id": "view-in-github",
        "colab_type": "text"
      },
      "source": [
        "<a href=\"https://colab.research.google.com/github/aschelin/SimulacoesAGFE/blob/main/IntroPythonOOP.ipynb\" target=\"_parent\"><img src=\"https://colab.research.google.com/assets/colab-badge.svg\" alt=\"Open In Colab\"/></a>"
      ]
    },
    {
      "cell_type": "markdown",
      "metadata": {
        "id": "gtw-WyS_kwio"
      },
      "source": [
        "# Programação Orientada a Objeto\n",
        "\n",
        "> Material didático baseado no livro:  *Python Programming and Numerical Methods - A Guide for Engineers and Scientists by Qingkai Kong Timmy Siauw and Alexandre Bayen. Imprint: Academic Press*.\n",
        "\n",
        "Frequentemente precisamos usar pacotes, como *scipy*, *numpy* ou outros pacotes de domínio especificado. Ao verificar o código-fonte desses pacotes, você pode ver novas palavras-chave no código, como as *classes*. \n",
        "\n",
        "*O que são classes e por que as usamos?* \n",
        "\n",
        "Este é um novo paradigma de programação - a **Programação Orientada a Objetos** (em inlgês, **O**bject **O**riented **P**rogramming - OOP) que é comumente usado para escrever programas ou pacotes grandes. \n",
        "\n",
        "Ao escrever um grande programa, a OOP tem uma série de vantagens, ela: \n",
        "\n",
        "* simplifica o código para melhor legibilidade;\n",
        "* descreve melhor o objetivo final do projeto;\n",
        "* é reutilizável e reduz o número de possíveis bugs no código.\n",
        "\n",
        "Dados esses recursos, você verá a OOP na maioria dos pacotes padrôes. Entender seus fundamentos nos ajuda a escrever um código melhor. Este tutorial apresenta os fundamentos da OOP, com ênfase nos componentes principais: **objeto**, **classe** e **herança**. \n",
        "\n",
        "Python é uma linguagem de programação altamente orientada a objetos e entender esses conceitos o ajudará a programar com o mínimo de dores de cabeça."
      ]
    },
    {
      "cell_type": "markdown",
      "metadata": {
        "id": "_g4Dt49vqNQq"
      },
      "source": [
        "Até agora, todos os códigos que escrevemos pertencem à categoria de programação orientada a procedimentos (POP), que consiste em uma lista de instruções para dizer ao computador o que fazer; essas instruções são organizadas em funções. O programa é dividido em uma coleção de variáveis, estruturas de dados e rotinas para realizar diferentes tarefas. \n",
        "\n",
        "Python é uma linguagem de programação multiparadigma, o que significa que oferece suporte a diferentes abordagens de programação. Uma maneira diferente de programar em Python é a programação orientada a objetos (OOP). A curva de aprendizado é mais íngreme, mas é extremamente poderosa e vale o tempo investido em dominá-la. \n",
        "\n",
        "Observação: você não precisa usar OOP ao programar em Python. Você ainda pode escrever programas muito poderosos usando o POP. Dito isso, o POP é bom para programas simples e pequenos, enquanto o OOP é mais adequado para programas grandes. Vamos dar uma olhada mais de perto na programação orientada a objetos.\n",
        "\n",
        "A programação orientada a objetos divide a tarefa de programação em objetos, que combinam dados (conhecidos como *atributos*) e comportamentos / funções (conhecidos como *métodos*). Portanto, existem duas componentes principais da OOP: **classe** e **objeto**.\n",
        "\n",
        "A *classe* é um projeto para definir um agrupamento lógico de dados e funções. Ela fornece uma maneira de criar estruturas de dados que modelam entidades do mundo real. Por exemplo, podemos criar uma classe de pessoas que contém os dados como nome, idade e algumas funções de comportamento para imprimir idades e gêneros de um grupo de pessoas. Enquanto a classe é o projeto, um objeto é uma instância da classe com valores reais. Por exemplo, uma pessoa chamada 'Homem de Ferro' com 35 anos. *Colocando de outra forma, uma classe é como um modelo para definir as informações necessárias, e um objeto é uma cópia específica que preenche o modelo.* Além disso, os objetos instanciados da mesma classe são independentes uns dos outros. Por exemplo, se tivermos outra pessoa - ‘Batman’ com 33 anos, ele pode ser instanciado a partir da classe people, mas é uma instância independente.\n",
        "\n",
        "Vamos implementar o exemplo acima em Python. Não se preocupe se você não entender a sintaxe abaixo; a próxima seção fornece exemplos mais úteis."
      ]
    },
    {
      "cell_type": "code",
      "metadata": {
        "id": "v1KieXO1kvhX"
      },
      "source": [
        "class People():\n",
        "    def __init__(self, name, age):\n",
        "        self.name = name\n",
        "        self.age = age\n",
        "        \n",
        "    def greet(self):\n",
        "        print(\"Greetings, \" + self.name)"
      ],
      "execution_count": null,
      "outputs": []
    },
    {
      "cell_type": "code",
      "metadata": {
        "colab": {
          "base_uri": "https://localhost:8080/"
        },
        "id": "QgsfeO_KBmlx",
        "outputId": "70f2383b-5310-40a2-a1ac-3d24659bc17b"
      },
      "source": [
        "person1 = People(name = 'Iron Man', age = 35)\n",
        "person1.greet()\n",
        "print(person1.name)\n",
        "print(person1.age)"
      ],
      "execution_count": null,
      "outputs": [
        {
          "output_type": "stream",
          "text": [
            "Greetings, Iron Man\n",
            "Iron Man\n",
            "35\n"
          ],
          "name": "stdout"
        }
      ]
    },
    {
      "cell_type": "code",
      "metadata": {
        "colab": {
          "base_uri": "https://localhost:8080/"
        },
        "id": "MhjhUlD0BuJl",
        "outputId": "db831bd3-81ad-4e14-b250-05b98cbdd098"
      },
      "source": [
        "person2 = People(name = 'Batman', age = 33)\n",
        "person2.greet()\n",
        "print(person2.name)\n",
        "print(person2.age)"
      ],
      "execution_count": null,
      "outputs": [
        {
          "output_type": "stream",
          "text": [
            "Greetings, Batman\n",
            "Batman\n",
            "33\n"
          ],
          "name": "stdout"
        }
      ]
    },
    {
      "cell_type": "code",
      "metadata": {
        "colab": {
          "base_uri": "https://localhost:8080/"
        },
        "id": "pPYYOODzBzaD",
        "outputId": "7cd45d22-3575-40bd-b81e-39cf0c07036c"
      },
      "source": [
        "person2 = People(name = 'Batman', age = 33)\n",
        "person2.greet()\n",
        "print(person2.name)\n",
        "print(person2.age)"
      ],
      "execution_count": null,
      "outputs": [
        {
          "output_type": "stream",
          "text": [
            "Greetings, Batman\n",
            "Batman\n",
            "33\n"
          ],
          "name": "stdout"
        }
      ]
    },
    {
      "cell_type": "markdown",
      "metadata": {
        "id": "oACJ02bqCI8e"
      },
      "source": [
        "No exemplo de código acima, primeiro definimos uma classe - Pessoas, com nome e idade como os dados, e um método saudação. Em seguida, inicializamos um objeto - person1 com o nome e a idade específicos. Podemos ver claramente que a classe define toda a estrutura, enquanto o objeto é apenas uma instância da classe. Posteriormente, instanciamos outro objeto, person2. É claro que person1 e  person2 são independentes entre si, embora sejam todos instanciados na mesma classe."
      ]
    },
    {
      "cell_type": "markdown",
      "metadata": {
        "id": "gNlXzIsvCbbo"
      },
      "source": [
        "O conceito de OOP é criar um código reutilizável. Existem três princípios fundamentais para usar OOP:\n",
        "\n",
        "* Herança - uma maneira de criar novas classes a partir da classe existente sem modificá-la.\n",
        "\n",
        "* Encapsulamento - uma maneira de ocultar alguns dos detalhes privados de uma classe de outros objetos.\n",
        "\n",
        "* Polimorfismo - uma maneira de usar a operação comum de diferentes maneiras para diferentes entradas de dados.\n",
        "\n",
        "Com os princípios acima, há muitos benefícios de se usar OOP: Ele fornece uma estrutura modular clara para programas que aprimora a reutilização de código. \n"
      ]
    },
    {
      "cell_type": "markdown",
      "metadata": {
        "id": "P3iWr-GBEggg"
      },
      "source": [
        "A seção anterior apresentou os dois componentes principais de OOP: Class, que é um blueprint usado para definir um agrupamento lógico de dados e funções, e Object, que é uma instância da classe definida com valores reais. A seguir, entraremos em maiores detalhes sobre essas duas componentes."
      ]
    },
    {
      "cell_type": "markdown",
      "metadata": {
        "id": "Sb6slsTtEqRW"
      },
      "source": [
        "## Class\n",
        "\n",
        "Uma classe é uma definição da estrutura que desejamos. Semelhante a uma função, é definida como um bloco de código, começando com a instrução de classe. A sintaxe para definir uma classe é:\n",
        "\n",
        "class ClassName(superclass):\n",
        "    \n",
        "    def __init__(self, arguments):\n",
        "        # define or assign object attributes\n",
        "        \n",
        "    def other_methods(self, arguments):\n",
        "        # body of the method\n"
      ]
    },
    {
      "cell_type": "markdown",
      "metadata": {
        "id": "AN3ruMF6Fq_W"
      },
      "source": [
        "A definição de uma classe é semelhante a de uma função. Ela precisa ser instanciado antes de você poder usá-la. Para o nome da classe, é uma convenção padrão usar “CapWords”. A superclasse é usada quando você deseja criar uma nova classe para herdar os atributos e métodos de outra classe já definida. Falaremos mais sobre herança na próxima seção. \n",
        "\n",
        "O __init__ é um dos métodos especiais em classes Python que é executado assim que um objeto de uma classe é instanciado (criado). Ele atribui valores iniciais ao objeto antes de estar pronto para ser usado. Observe os dois sublinhados no início e no final do *init*, indicando que este é um método especial reservado para uso especial na linguagem. Neste método *init*, você pode criar atributos diretamente ao criar o objeto. \n",
        "\n",
        "As funções other_methods são usadas para definir os métodos de instância que serão aplicados nos atributos, assim como as funções que discutimos antes. Você pode notar que existe um parâmetro *self* para definir este método na classe. \n",
        "Por quê? Um método de instância de classe deve ter este argumento extra como o primeiro argumento quando você o define. Este argumento particular se refere ao próprio objeto; convencionalmente, usamos *self* para nomeá-lo. Por meio desse parâmetro próprio, os métodos de instância podem acessar livremente os atributos e outros métodos no mesmo objeto. Quando definimos ou chamamos um método de instância dentro de uma classe, precisamos usar este parâmetro próprio. Vejamos um exemplo abaixo."
      ]
    },
    {
      "cell_type": "markdown",
      "metadata": {
        "id": "1VwRvTFjGkY1"
      },
      "source": [
        "**EXEMPLO:** Defina uma classe chamada *Student*, com os atributos **sid** (student id), **name**, **gender**, **type** no método *init* e um método chamado *say_name* para imprimir o nome do aluno. Todos os atributos serão transmitidos, exceto o tipo (type), que terá um valor pré-definido (learning)."
      ]
    },
    {
      "cell_type": "code",
      "metadata": {
        "id": "CQdCXzHHB3-_"
      },
      "source": [
        "class Student():\n",
        "    \n",
        "    def __init__(self, sid, name, gender):\n",
        "        self.sid = sid\n",
        "        self.name = name\n",
        "        self.gender = gender\n",
        "        self.type = 'learning'\n",
        "        \n",
        "    def say_name(self):\n",
        "        print(\"My name is \" + self.name)"
      ],
      "execution_count": null,
      "outputs": []
    },
    {
      "cell_type": "markdown",
      "metadata": {
        "id": "T4BDmYnrHXfc"
      },
      "source": [
        "A partir do exemplo acima, podemos ver que esta classe simples contém todas as partes necessárias mencionadas anteriormente. O método __init__ inicializará os atributos quando criarmos um objeto. Precisamos passar o valor inicial para sid, nome e gênero, enquanto o tipo de atributo é um valor fixo como learning”.\n",
        "\n",
        "Esses atributos podem ser acessados por todos os outros métodos definidos na classe com self.attribute, por exemplo, no método say_name, podemos usar o atributo name com self.name. Os métodos definidos na classe podem ser acessados e usados em outros métodos diferentes também usando *self.method*. Vejamos o seguinte exemplo.\n",
        "\n",
        "**Exemplo:** Adicione um relatório de método que imprima não apenas o nome do aluno, mas também a id do aluno. O método terá outra pontuação de argumento, que passará em um número entre 0 - 100 como parte do relatório."
      ]
    },
    {
      "cell_type": "code",
      "metadata": {
        "id": "PVh_XZ-5E1y5"
      },
      "source": [
        "class Student():\n",
        "    \n",
        "    def __init__(self, sid, name, gender):\n",
        "        self.sid = sid\n",
        "        self.name = name\n",
        "        self.gender = gender\n",
        "        self.type = 'learning'\n",
        "        \n",
        "    def say_name(self):\n",
        "        print(\"My name is \" + self.name)\n",
        "        \n",
        "    def report(self, score):\n",
        "        self.say_name()\n",
        "        print(\"My id is: \" + self.sid)\n",
        "        print(\"My score is: \" + str(score))"
      ],
      "execution_count": null,
      "outputs": []
    },
    {
      "cell_type": "markdown",
      "metadata": {
        "id": "-MI09EkiIWSo"
      },
      "source": [
        "## Objeto\n",
        "\n",
        "Conforme mencionado antes, um objeto é uma instância da classe definida com valores reais. Podemos ter muitas instâncias de valores diferentes associados à classe, e cada uma dessas instâncias será independente umas das outras, como vimos anteriormente. Além disso, depois de criar um objeto e chamar esse método de instância do objeto, não precisamos dar valor ao parâmetro self, pois o Python o fornece automaticamente. Veja o seguinte exemplo:"
      ]
    },
    {
      "cell_type": "markdown",
      "metadata": {
        "id": "GeBmiX1fIg2E"
      },
      "source": [
        "**EXEMPLO:** Crie dois objetos (“001”, “Susan”, “F”) e (“002”, “Mike”, “M”), e chame o método *say_name*."
      ]
    },
    {
      "cell_type": "code",
      "metadata": {
        "colab": {
          "base_uri": "https://localhost:8080/"
        },
        "id": "cBfziTr9IEwV",
        "outputId": "40bf8d06-1bc9-4224-e886-59c1a668a862"
      },
      "source": [
        "student1 = Student(\"001\", \"Susan\", \"F\")\n",
        "student2 = Student(\"002\", \"Mike\", \"M\")\n",
        "\n",
        "student1.say_name()\n",
        "student2.say_name()\n",
        "print(student1.type)\n",
        "print(student1.gender)"
      ],
      "execution_count": null,
      "outputs": [
        {
          "output_type": "stream",
          "text": [
            "My name is Susan\n",
            "My name is Mike\n",
            "learning\n",
            "F\n"
          ],
          "name": "stdout"
        }
      ]
    },
    {
      "cell_type": "markdown",
      "metadata": {
        "id": "rGCUyMUKI2U8"
      },
      "source": [
        "No código acima, criamos dois objetos, student1 e student2, com dois conjuntos diferentes de valores. Cada objeto é uma instância da classe *Student* e possui um conjunto diferente de atributos. Digite *student1.+TAB* para ver os atributos e métodos definidos. Para obter acesso a um atributo, digite *object.attribute*, por exemplo, *student1.type*. Em contraste, para chamar um método, você precisa dos parênteses porque está chamando uma função, como *student1.say_name()*.\n",
        "\n",
        "**Exemplo:** Use o método *Report* para aluno1 e aluno2 com pontuação 95 e 90 individualmente. Nota: não precisamos do “eu” como argumento aqui."
      ]
    },
    {
      "cell_type": "code",
      "metadata": {
        "colab": {
          "base_uri": "https://localhost:8080/"
        },
        "id": "RtJEipp7IqFh",
        "outputId": "d7e1a5e6-c793-4738-abea-f90158d8eb8b"
      },
      "source": [
        "student1.report(95)\n",
        "student2.report(90)"
      ],
      "execution_count": null,
      "outputs": [
        {
          "output_type": "stream",
          "text": [
            "My name is Susan\n",
            "My id is: 001\n",
            "My score is: 95\n",
            "My name is Mike\n",
            "My id is: 002\n",
            "My score is: 90\n"
          ],
          "name": "stdout"
        }
      ]
    },
    {
      "cell_type": "markdown",
      "metadata": {
        "id": "YyuDp9hLJx2N"
      },
      "source": [
        "Podemos ver os dois métodos chamando fazendo print dos dados associados aos dois objetos. Nota: o valor da pontuação que passamos está disponível apenas para o relatório do método (dentro do escopo deste método). Também podemos ver que a chamada do método *say_name* no relatório também funciona, contanto que você chame o método com o self nele."
      ]
    },
    {
      "cell_type": "markdown",
      "metadata": {
        "id": "Nx_SqfZvKWGv"
      },
      "source": [
        "Os atributos apresentados acima são chamados de atributos de instância, o que significa que pertencem apenas a uma instância específica; ao usá-los, você precisa usar o self.attribute dentro da classe. Existem outro tipo de atributos chamados atributos de classe, que serão compartilhados com todas as instâncias criadas a partir desta classe. Vejamos um exemplo de como definir e usar um atributo de classe.\n",
        "\n",
        "**EXEMPLO:** Modifique a classe *Student* para adicionar um atributo de classe *n*, que registrará quantos objetos estamos criando. Além disso, adicione um método *num_instances* para imprimir o número."
      ]
    },
    {
      "cell_type": "code",
      "metadata": {
        "id": "rvaa89lvJmEa"
      },
      "source": [
        "class Student():\n",
        "    \n",
        "    n_instances = 0\n",
        "    \n",
        "    def __init__(self, sid, name, gender):\n",
        "        self.sid = sid\n",
        "        self.name = name\n",
        "        self.gender = gender\n",
        "        self.type = 'learning'\n",
        "        Student.n_instances += 1\n",
        "        \n",
        "    def say_name(self):\n",
        "        print(\"My name is \" + self.name)\n",
        "        \n",
        "    def report(self, score):\n",
        "        self.say_name()\n",
        "        print(\"My id is: \" + self.sid)\n",
        "        print(\"My score is: \" + str(score))\n",
        "        \n",
        "    def num_instances(self):\n",
        "        print(f'We have {Student.n_instances}-instance in total')"
      ],
      "execution_count": null,
      "outputs": []
    },
    {
      "cell_type": "markdown",
      "metadata": {
        "id": "zh_bhc8iK6P8"
      },
      "source": [
        "Ao definir um atributo de classe, devemos defini-lo fora de todos os outros métodos, sem usar *self*. Para usar os atributos de classe, usamos *ClassName.attribute*, que neste caso é *Student.n*. Este atributo será compartilhado com todas as instâncias criadas a partir desta classe. Vamos ver o código a seguir para mostrar a ideia."
      ]
    },
    {
      "cell_type": "code",
      "metadata": {
        "colab": {
          "base_uri": "https://localhost:8080/"
        },
        "id": "_MEcZ41nKonH",
        "outputId": "08249585-95bf-4b7a-e040-2c0828dd40af"
      },
      "source": [
        "student1 = Student(\"001\", \"Susan\", \"F\")\n",
        "student1.num_instances()\n",
        "student2 = Student(\"002\", \"Mike\", \"M\")\n",
        "student1.num_instances()\n",
        "student2.num_instances()"
      ],
      "execution_count": null,
      "outputs": [
        {
          "output_type": "stream",
          "text": [
            "We have 1-instance in total\n",
            "We have 2-instance in total\n",
            "We have 2-instance in total\n"
          ],
          "name": "stdout"
        }
      ]
    },
    {
      "cell_type": "markdown",
      "metadata": {
        "id": "gf5KvgL-LdjW"
      },
      "source": [
        "Como antes, criamos dois objetos, o atributo de instância *sid*, *name*, *gender* pertencem apenas ao objeto específico. Por exemplo, *student1.name* é “Susan” e *student2.name* é “Mike”. Mas quando imprimimos o **atributo de classe** *Student.n_instances* depois de criarmos o objeto student2, aquele em student1 também muda. Essa é a expectativa que temos para o **atributo de classe** porque ele é compartilhado por *todos os objetos criados*.\n",
        "\n",
        "Agora que entendemos a diferença entre classe e instância, estamos em boa forma para usar OOP básico em Python. Antes de podermos tirar o máximo proveito da OOP, ainda precisamos entender o conceito de *herança, encapsulamento* e *polimorfismo*. Vamos começar a próxima seção."
      ]
    },
    {
      "cell_type": "markdown",
      "metadata": {
        "id": "k-dhB4PqMq5H"
      },
      "source": [
        "## Herança, encapsulamento e polimorfismo"
      ]
    },
    {
      "cell_type": "markdown",
      "metadata": {
        "id": "xHwD-sBlMytz"
      },
      "source": [
        "### Herança\n",
        "\n",
        "A herança nos permite definir uma classe que herda todos os métodos e atributos de outra classe. A convenção denota a nova classe como classe filha, e aquela da qual ela herda é chamada de classe pai ou superclasse. \n",
        "\n",
        "Se nos referirmos novamente à definição da estrutura da classe, podemos ver que a estrutura da herança básica é class ClassName (superclasse), o que significa que a nova classe pode acessar todos os atributos e métodos da superclasse. \n",
        "\n",
        "A herança constrói um relacionamento entre a classe filha e a classe pai, geralmente de forma que a classe pai seja um tipo geral, enquanto a classe filha é um tipo específico. Vamos tentar ver um exemplo.\n",
        "\n",
        "**Exemplo:** Defina uma classe chamada *Sensor* com os atributos *name*, *location* e *record_date* que passa a criação de um objeto e um atributo *data* como um dicionário vazio para armazenar dados. \n",
        "\n",
        "Crie um método *add_data* com *t* e *data* como parâmetros de entrada para incluir um carimbo de data/hora e as matrizes de dados. Dentro deste método, atribua *t* e *data* ao atributo de dados com 'tempo' e 'dados' como as chaves. Além disso, deve haver um método *clear_data* para excluir os dados."
      ]
    },
    {
      "cell_type": "code",
      "metadata": {
        "id": "0mLUGjwfLLdM"
      },
      "source": [
        "class Sensor():\n",
        "    def __init__(self, name, location, record_date):\n",
        "        self.name = name\n",
        "        self.location = location\n",
        "        self.record_date = record_date\n",
        "        self.data = {}\n",
        "        \n",
        "    def add_data(self, t, data):\n",
        "        self.data['time'] = t\n",
        "        self.data['data'] = data\n",
        "        print(f'We have {len(data)} points saved')        \n",
        "        \n",
        "    def clear_data(self):\n",
        "        self.data = {}\n",
        "        print('Data cleared!')"
      ],
      "execution_count": null,
      "outputs": []
    },
    {
      "cell_type": "markdown",
      "metadata": {
        "id": "UzY9Pbo5OKos"
      },
      "source": [
        "Agora que temos uma classe para armazenar informações gerais do sensor, podemos criar um objeto sensor para armazenar alguns dados."
      ]
    },
    {
      "cell_type": "code",
      "metadata": {
        "colab": {
          "base_uri": "https://localhost:8080/"
        },
        "id": "ZzEw_cFIOGRr",
        "outputId": "3172d30b-0af7-4cc8-c15e-b3edf4ccce78"
      },
      "source": [
        "import numpy as np\n",
        "\n",
        "sensor1 = Sensor('sensor1', 'Berkeley', '2019-01-01')\n",
        "data = np.random.randint(-10, 10, 10)\n",
        "sensor1.add_data(np.arange(10), data)\n",
        "sensor1.data"
      ],
      "execution_count": null,
      "outputs": [
        {
          "output_type": "stream",
          "text": [
            "We have 10 points saved\n"
          ],
          "name": "stdout"
        },
        {
          "output_type": "execute_result",
          "data": {
            "text/plain": [
              "{'data': array([-10, -10,   9,   4,   6,  -4,  -9,   8,   1,  -4]),\n",
              " 'time': array([0, 1, 2, 3, 4, 5, 6, 7, 8, 9])}"
            ]
          },
          "metadata": {
            "tags": []
          },
          "execution_count": 15
        }
      ]
    },
    {
      "cell_type": "markdown",
      "metadata": {
        "id": "LZ4HP_NJO3fo"
      },
      "source": [
        "Digamos que temos um tipo diferente de sensor: um acelerômetro. Ele compartilha os mesmos atributos e métodos da classe Sensor, mas também tem diferentes atributos ou métodos que precisam ser acrescentados ou modificados da classe original. O que devemos fazer? Criamos uma classe diferente do zero? É aqui que a herança pode ser usada para tornar a vida mais fácil. Esta nova classe herdará da classe Sensor com todos os atributos e métodos. Podemos estender os atributos ou métodos. Vamos primeiro criar esta nova classe, Acelerômetro, e adicionar um novo método, show_type, para relatar que tipo de sensor ele é."
      ]
    },
    {
      "cell_type": "code",
      "metadata": {
        "colab": {
          "base_uri": "https://localhost:8080/"
        },
        "id": "G8HhpTv_OTLz",
        "outputId": "907b679c-74d4-44db-d215-e277858443c7"
      },
      "source": [
        "class Accelerometer(Sensor):\n",
        "    \n",
        "    def show_type(self):\n",
        "        print('I am an accelerometer!')\n",
        "        \n",
        "acc = Accelerometer('acc1', 'Oakland', '2019-02-01')\n",
        "acc.show_type()\n",
        "data = np.random.randint(-10, 10, 10)\n",
        "acc.add_data(np.arange(10), data)\n",
        "acc.data"
      ],
      "execution_count": null,
      "outputs": [
        {
          "output_type": "stream",
          "text": [
            "I am an accelerometer!\n",
            "We have 10 points saved\n"
          ],
          "name": "stdout"
        },
        {
          "output_type": "execute_result",
          "data": {
            "text/plain": [
              "{'data': array([ 3, -6, -4, -6,  3,  4,  7,  2,  9, -9]),\n",
              " 'time': array([0, 1, 2, 3, 4, 5, 6, 7, 8, 9])}"
            ]
          },
          "metadata": {
            "tags": []
          },
          "execution_count": 16
        }
      ]
    },
    {
      "cell_type": "markdown",
      "metadata": {
        "id": "3RfAqtTyPilp"
      },
      "source": [
        "Criar essa nova classe de *Accelerometer* é muito simples. Herdamos de *Sensor* (denotado como uma superclasse), e a nova classe realmente contém todos os atributos e métodos da superclasse. Em seguida, adicionamos um novo método, *show_type*, que não existe na classe *Sensor*, mas podemos estender a classe filha com sucesso adicionando o novo método. \n",
        "\n",
        "Isso mostra o poder da herança: reutilizamos a maior parte da classe *Sensor* em uma nova classe e estendemos a funcionalidade. Além disso, a herança configura um relacionamento lógico para a modelagem das entidades do mundo real: a classe *Sensor* como classe pai é mais geral e passa todas as características para a classe filha *Accelerometer*."
      ]
    },
    {
      "cell_type": "markdown",
      "metadata": {
        "id": "ny9BV4ciQJVV"
      },
      "source": [
        "Quando herdamos de uma classe pai, podemos mudar a implementação de um método fornecido pela classe pai. Isto é chamado de *substituição de método*. Vejamos o seguinte exemplo.\n",
        "\n",
        "**Exemplo:** Crie uma classe UCBAcc (um tipo específico de acelerômetro criado na UC Berkeley) que herda do Acelerômetro, mas substitua o método show_type que imprime o nome do sensor."
      ]
    },
    {
      "cell_type": "code",
      "metadata": {
        "colab": {
          "base_uri": "https://localhost:8080/"
        },
        "id": "NGcLgM9sPI5x",
        "outputId": "c6201ed2-b5b6-40e4-d680-434d5acf14a1"
      },
      "source": [
        "class UCBAcc(Accelerometer):\n",
        "    \n",
        "    def show_type(self):\n",
        "        print(f'I am {self.name}, created at UC Berkeley!')\n",
        "        \n",
        "acc_ucb = UCBAcc('UCBAcc', 'Berkeley', '2019-03-01')\n",
        "acc_ucb.show_type()"
      ],
      "execution_count": null,
      "outputs": [
        {
          "output_type": "stream",
          "text": [
            "I am UCBAcc, created at UC Berkeley!\n"
          ],
          "name": "stdout"
        }
      ]
    },
    {
      "cell_type": "markdown",
      "metadata": {
        "id": "yhMJQihBQnOm"
      },
      "source": [
        "Nossa nova classe *UCBAcc* realmente substitui o método *show_type* com novos recursos. Neste exemplo, não estamos apenas herdando recursos de nossa classe pai, mas também modificando/melhorando alguns métodos."
      ]
    },
    {
      "cell_type": "markdown",
      "metadata": {
        "id": "5lpVCYIxQ6Af"
      },
      "source": [
        "Vamos criar uma classe NewSensor que herda da classe Sensor, mas com atributos atualizados adicionando uma nova marca de atributo. Claro, podemos redefinir todo o método __init__ como mostrado abaixo e sobrescrever a função pai."
      ]
    },
    {
      "cell_type": "code",
      "metadata": {
        "colab": {
          "base_uri": "https://localhost:8080/",
          "height": 35
        },
        "id": "LHcmdLqpQfpn",
        "outputId": "27d1c0a1-f5e5-418f-bb8f-32916eb1502a"
      },
      "source": [
        "class NewSensor(Sensor):\n",
        "    def __init__(self, name, location, record_date, brand):\n",
        "        self.name = name\n",
        "        self.location = location\n",
        "        self.record_date = record_date\n",
        "        self.brand = brand\n",
        "        self.data = {}\n",
        "        \n",
        "new_sensor = NewSensor('OK', 'SF', '2019-03-01', 'XYZ')\n",
        "new_sensor.brand"
      ],
      "execution_count": null,
      "outputs": [
        {
          "output_type": "execute_result",
          "data": {
            "application/vnd.google.colaboratory.intrinsic+json": {
              "type": "string"
            },
            "text/plain": [
              "'XYZ'"
            ]
          },
          "metadata": {
            "tags": []
          },
          "execution_count": 18
        }
      ]
    },
    {
      "cell_type": "markdown",
      "metadata": {
        "id": "68Flh6v6RHYR"
      },
      "source": [
        "No entanto, existe uma maneira melhor de conseguir o mesmo. Podemos usar o método super para evitar a referência explícita à classe pai. Vamos ver como fazer isso no exemplo a seguir:"
      ]
    },
    {
      "cell_type": "code",
      "metadata": {
        "colab": {
          "base_uri": "https://localhost:8080/",
          "height": 35
        },
        "id": "GruYklPgRBQ8",
        "outputId": "432f0157-3545-435f-fd24-a4dd8328fb20"
      },
      "source": [
        "class NewSensor(Sensor):\n",
        "    def __init__(self, name, location, record_date, brand):\n",
        "        super().__init__(name, location, record_date)\n",
        "        self.brand = brand\n",
        "        \n",
        "new_sensor = NewSensor('OK', 'SF', '2019-03-01', 'XYZ')\n",
        "new_sensor.brand"
      ],
      "execution_count": null,
      "outputs": [
        {
          "output_type": "execute_result",
          "data": {
            "application/vnd.google.colaboratory.intrinsic+json": {
              "type": "string"
            },
            "text/plain": [
              "'XYZ'"
            ]
          },
          "metadata": {
            "tags": []
          },
          "execution_count": 19
        }
      ]
    },
    {
      "cell_type": "markdown",
      "metadata": {
        "id": "04LpuZGcRn0M"
      },
      "source": [
        "Agora podemos ver que com o método super, evitamos listar todas as definições dos atributos -- isso ajuda a manter seu código sustentável no futuro. Mas é realmente útil quando você está fazendo herança múltipla\n",
        ", o que está além da discussão deste tutorial."
      ]
    },
    {
      "cell_type": "markdown",
      "metadata": {
        "id": "jyD-k1ecR66L"
      },
      "source": [
        "## Encapsulamento\n",
        "\n",
        "O encapsulamento é um dos conceitos fundamentais em OOP. Ele descreve a ideia de restringir o acesso a métodos e atributos em uma classe. Isso ocultará os detalhes complexos dos usuários e evitará que os dados sejam modificados acidentalmente. Em Python, isso é obtido usando métodos ou atributos privados usando sublinhado como prefixo, ou seja, $'_'$ simples ou $\"__\"$ duplo. Vejamos o seguinte exemplo."
      ]
    },
    {
      "cell_type": "code",
      "metadata": {
        "id": "CZ962zmhRTIs"
      },
      "source": [
        "class Sensor():\n",
        "    def __init__(self, name, location):\n",
        "        self.name = name\n",
        "        self._location = location\n",
        "        self.__version = '1.0'\n",
        "    \n",
        "    # a getter function\n",
        "    def get_version(self):\n",
        "        print(f'The sensor version is {self.__version}')\n",
        "    \n",
        "    # a setter function\n",
        "    def set_version(self, version):\n",
        "        self.__version = version"
      ],
      "execution_count": null,
      "outputs": []
    },
    {
      "cell_type": "code",
      "metadata": {
        "colab": {
          "base_uri": "https://localhost:8080/"
        },
        "id": "LSNC-sPbSdHG",
        "outputId": "9a166560-5695-42c5-ad2f-72e3bdc39cdf"
      },
      "source": [
        "sensor1 = Sensor('Acc', 'Berkeley')\n",
        "print(sensor1.name)\n",
        "print(sensor1._location)\n",
        "#print(sensor1.__version)"
      ],
      "execution_count": null,
      "outputs": [
        {
          "output_type": "stream",
          "text": [
            "Acc\n",
            "Berkeley\n"
          ],
          "name": "stdout"
        }
      ]
    },
    {
      "cell_type": "markdown",
      "metadata": {
        "id": "S_wTIdgmVRCW"
      },
      "source": [
        "O exemplo acima mostra como funciona o encapsulamento. Com um único sublinhado, definimos uma variável privada e ela não deve ser acessada diretamente. Mas isso é apenas uma convenção, nada o impede de fazer isso. Você ainda pode ter acesso a ela, se desejar. Com o sublinhado duplo, podemos ver que o atributo $__version$ não pode ser acessado ou modificado diretamente. Portanto, para obter acesso aos atributos de sublinhado duplo, precisamos usar as funções getter e setter para acessá-los internamente, conforme mostrado no exemplo a seguir."
      ]
    },
    {
      "cell_type": "code",
      "metadata": {
        "colab": {
          "base_uri": "https://localhost:8080/"
        },
        "id": "3AiOj9BTSqxE",
        "outputId": "4cc79629-f919-4a65-ced6-08aabdb53912"
      },
      "source": [
        "sensor1.get_version()"
      ],
      "execution_count": null,
      "outputs": [
        {
          "output_type": "stream",
          "text": [
            "The sensor version is 1.0\n"
          ],
          "name": "stdout"
        }
      ]
    },
    {
      "cell_type": "code",
      "metadata": {
        "colab": {
          "base_uri": "https://localhost:8080/"
        },
        "id": "uv8wUyCiWBD8",
        "outputId": "584eaa31-6dcf-4b05-dbb0-1d844c139916"
      },
      "source": [
        "sensor1.set_version('2.0')\n",
        "sensor1.get_version()"
      ],
      "execution_count": null,
      "outputs": [
        {
          "output_type": "stream",
          "text": [
            "The sensor version is 2.0\n"
          ],
          "name": "stdout"
        }
      ]
    },
    {
      "cell_type": "markdown",
      "metadata": {
        "id": "K9zD7TK4WUtR"
      },
      "source": [
        "## Polimorfismo\n",
        "\n",
        "O polimorfismo é outro conceito fundamental em OOP. Ele significa *múltiplas formas*. O polimorfismo nos permite usar uma única interface com diferentes formas subjacentes, como tipos de dados ou classes. Por exemplo, podemos ter métodos comumente nomeados em classes ou classes filhas. Já vimos um exemplo acima, quando substituímos o método show_type no UCBAcc. Para a classe pai Acelerômetro e classe filha UCBAcc, ambos têm um método denominado show_type, mas têm implementações diferentes. Essa capacidade de usar um único nome com muitas formas agindo de maneira diferente em diferentes situações reduz muito nossas complexidades. Não vamos expandir para discutir mais sobre polimorfismo, se você estiver interessado, verifique mais online para obter um entendimento mais profundo."
      ]
    },
    {
      "cell_type": "code",
      "metadata": {
        "id": "38EEWHkQWDhk"
      },
      "source": [
        ""
      ],
      "execution_count": null,
      "outputs": []
    }
  ]
}