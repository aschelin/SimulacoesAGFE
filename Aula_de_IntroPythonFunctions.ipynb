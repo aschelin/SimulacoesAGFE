{
  "nbformat": 4,
  "nbformat_minor": 0,
  "metadata": {
    "colab": {
      "name": "Aula de IntroPythonFunctions.ipynb",
      "provenance": [],
      "authorship_tag": "ABX9TyN8OekH1TyLJwGZrfyk2xP3",
      "include_colab_link": true
    },
    "kernelspec": {
      "name": "python3",
      "display_name": "Python 3"
    },
    "language_info": {
      "name": "python"
    }
  },
  "cells": [
    {
      "cell_type": "markdown",
      "metadata": {
        "id": "view-in-github",
        "colab_type": "text"
      },
      "source": [
        "<a href=\"https://colab.research.google.com/github/aschelin/SimulacoesAGFE/blob/main/Aula_de_IntroPythonFunctions.ipynb\" target=\"_parent\"><img src=\"https://colab.research.google.com/assets/colab-badge.svg\" alt=\"Open In Colab\"/></a>"
      ]
    },
    {
      "cell_type": "markdown",
      "metadata": {
        "id": "qWJspcnbfRL9"
      },
      "source": [
        "# Funções\n",
        "\n",
        "> Material didático baseado no livro:  *Python Programming and Numerical Methods - A Guide for Engineers and Scientists by Qingkai Kong Timmy Siauw and Alexandre Bayen. Imprint: Academic Press*."
      ]
    },
    {
      "cell_type": "markdown",
      "metadata": {
        "id": "6T22scc_fqpE"
      },
      "source": [
        "Na programação, uma função é uma sequência de instruções que executa uma tarefa específica. Uma função é um bloco de código que pode ser executado quando chamado. Uma função pode ter argumentos de entrada, que são disponibilizados a ela pelo usuário. As funções também têm parâmetros de saída, que são os resultados da função que o usuário espera receber assim que a função tiver concluído sua tarefa. Por exemplo, a função *math.sin* tem um argumento de entrada, um ângulo em radianos e um argumento de saída, uma aproximação da função sin calculada no ângulo de entrada (arredondado para 16 dígitos). A sequência de instruções para calcular esta aproximação constitui o corpo da função.\n",
        "\n",
        "Já vimos muitas funções integradas do Python, como type, len e assim por diante. Também vimos as funções de alguns pacotes, por exemplo, *math.sin*, *np.array* e assim por diante. \n",
        "\n",
        "**Exemplo:** Verifique se *len* é uma função interna usando a função type."
      ]
    },
    {
      "cell_type": "code",
      "metadata": {
        "id": "AbrI5Fa5fPe3"
      },
      "source": [
        ""
      ],
      "execution_count": null,
      "outputs": []
    },
    {
      "cell_type": "code",
      "metadata": {
        "id": "lOuXXgV3gKQw"
      },
      "source": [
        ""
      ],
      "execution_count": null,
      "outputs": []
    },
    {
      "cell_type": "code",
      "metadata": {
        "id": "hmGLWsfKgPT2"
      },
      "source": [
        "# para obter informações sobre a função, basta colocar um ponto de interrogação\n"
      ],
      "execution_count": null,
      "outputs": []
    },
    {
      "cell_type": "markdown",
      "metadata": {
        "id": "ybeHmwRKgkI1"
      },
      "source": [
        "Podemos definir as nossas próprias funções. Uma função pode ser especificada de várias maneiras. Aqui iremos apresentar a forma mais comum: uma função que pode ser especificada usando a palavra-chave def, como mostrado a seguir"
      ]
    },
    {
      "cell_type": "markdown",
      "metadata": {
        "id": "6R6bHOcA5Qqk"
      },
      "source": [
        "Definir uma função, você precisa dos componentes a seguir:\n",
        "\n",
        "* Cabeçalho de função: um cabeçalho de função começa com uma palavra-chave def, seguida por um par de parênteses com os argumentos de entrada dentro e termina com dois pontos (:)\n",
        "\n",
        "* Corpo da função: um bloco recuado (geralmente quatro espaços em branco) para indicar o corpo principal da função. Consiste em 3 partes:\n",
        "\n",
        "* String descritiva: uma string que descreve a função que pode ser acessada pela função help () ou pelo ponto de interrogação. Você pode escrever qualquer string dentro, pode ser várias linhas.\n",
        "\n",
        "* Instruções de função: são as instruções passo a passo que a função executará quando a chamarmos. Você também pode notar que há uma linha que começa com ‘#’, esta é uma linha de comentário, o que significa que a função não irá executá-la.\n",
        "\n",
        "* Declarações de retorno: uma função pode retornar alguns parâmetros depois que a função é chamada, mas isso é opcional, podemos ignorá-lo. Qualquer tipo de dados pode ser retornado, até mesmo uma função, explicaremos mais tarde.\n",
        "\n",
        "DICA: Quando seu código se torna mais longo e complicado, os comentários ajudam você e aqueles que estão lendo seu código a navegar por ele e entender o que você está tentando fazer. Adquirir o hábito de comentar com frequência ajudará a evitar que você cometa erros de codificação, compreender para onde seu código está indo ao escrevê-lo e encontrar erros quando você cometer erros. Também é comum colocar uma descrição da função, autor e data de criação na string descritiva sob o cabeçalho da função, mesmo que seja opcional (você pode pular a string descritiva). É altamente recomendável que você comente bastante em seu próprio código.\n",
        "\n",
        "**Exemplo:** Defina uma função chamada *my_adder* para pegar em 3 números e somá-los."
      ]
    },
    {
      "cell_type": "code",
      "metadata": {
        "id": "lrotkdlHgSnj"
      },
      "source": [
        "\n"
      ],
      "execution_count": null,
      "outputs": []
    },
    {
      "cell_type": "markdown",
      "metadata": {
        "id": "rhNxft5n6JmF"
      },
      "source": [
        "**Importante:** Se você não recuar seu código para definir a função, aparecerá um *IndentationError*."
      ]
    },
    {
      "cell_type": "code",
      "metadata": {
        "id": "oPw-DtMl479x"
      },
      "source": [
        ""
      ],
      "execution_count": null,
      "outputs": []
    },
    {
      "cell_type": "code",
      "metadata": {
        "id": "eCn6KbXa63OC"
      },
      "source": [
        ""
      ],
      "execution_count": null,
      "outputs": []
    },
    {
      "cell_type": "markdown",
      "metadata": {
        "id": "aH-IkA__7Kur"
      },
      "source": [
        "## Funções Lambda\n",
        "\n",
        "Às vezes, não queremos usar a maneira normal para definir uma função, especialmente se nossa função for apenas uma linha. Nesse caso, podemos usar a função anônima no Python, que é uma função definida sem um nome. Esse tipo de função também é chamada de função *labmda*, pois é definida com a palavra-chave labmda. Uma função lambda típica é definida:"
      ]
    },
    {
      "cell_type": "code",
      "metadata": {
        "id": "xYWh0_b065_V"
      },
      "source": [
        ""
      ],
      "execution_count": null,
      "outputs": []
    },
    {
      "cell_type": "markdown",
      "metadata": {
        "id": "uOIIaA8q7flB"
      },
      "source": [
        "**Exemplo:** Defina uma função lambda, que eleva ao quadrado o número de entrada. E chame a função com as entradas 2 e 5."
      ]
    },
    {
      "cell_type": "code",
      "metadata": {
        "id": "CGw5Ppzg7ZLh"
      },
      "source": [
        ""
      ],
      "execution_count": null,
      "outputs": []
    },
    {
      "cell_type": "markdown",
      "metadata": {
        "id": "fJJgQnHP70q4"
      },
      "source": [
        "Essa função lambda é equivalente a:"
      ]
    },
    {
      "cell_type": "code",
      "metadata": {
        "id": "V7tjpn5d7s_c"
      },
      "source": [
        ""
      ],
      "execution_count": null,
      "outputs": []
    },
    {
      "cell_type": "markdown",
      "metadata": {
        "id": "VbI-3qqi8JxH"
      },
      "source": [
        "Aqui, mostramos um caso de uso comum para a função lambda:\n",
        "\n",
        "**Exemplo:** Classifique [(1, 2), (2, 0), (4, 1)] com base no segundo item da tupla."
      ]
    },
    {
      "cell_type": "code",
      "metadata": {
        "id": "qoOk-vOA79mR"
      },
      "source": [
        ""
      ],
      "execution_count": null,
      "outputs": []
    },
    {
      "cell_type": "markdown",
      "metadata": {
        "id": "Ps-s4FNZ8hIk"
      },
      "source": [
        "O que aconteceu? A função *sorted* possui um argumento, onde uma função de personalizada pode ser fornecida para indicar a ordem de classificação. Usamos a função lambda como um atalho para esta função personalizada."
      ]
    },
    {
      "cell_type": "code",
      "metadata": {
        "id": "yDLmSwN98afI"
      },
      "source": [
        ""
      ],
      "execution_count": null,
      "outputs": []
    }
  ]
}